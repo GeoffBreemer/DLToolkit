{
 "cells": [
  {
   "cell_type": "markdown",
   "metadata": {},
   "source": [
    "# Kaggle's Dats Science Bowl 2018 competition\n",
    "\n",
    "Code below initially heavily based on:\n",
    "https://www.kaggle.com/keegil/keras-u-net-starter-lb-0-277\n",
    "and\n",
    "https://www.kaggle.com/weiji14/yet-another-keras-u-net-data-augmentation"
   ]
  },
  {
   "cell_type": "markdown",
   "metadata": {},
   "source": [
    "## Set seeds"
   ]
  },
  {
   "cell_type": "code",
   "execution_count": 1,
   "metadata": {},
   "outputs": [
    {
     "name": "stderr",
     "output_type": "stream",
     "text": [
      "/Users/geoff/anaconda3/envs/ML3-DL-OPENCV/lib/python3.6/site-packages/h5py/__init__.py:36: FutureWarning: Conversion of the second argument of issubdtype from `float` to `np.floating` is deprecated. In future, it will be treated as `np.float64 == np.dtype(float).type`.\n",
      "  from ._conv import register_converters as _register_converters\n"
     ]
    }
   ],
   "source": [
    "RANDOM_STATE = 42\n",
    "\n",
    "from numpy.random import seed\n",
    "seed(RANDOM_STATE)\n",
    "\n",
    "from tensorflow import set_random_seed\n",
    "set_random_seed(RANDOM_STATE)\n",
    "\n",
    "import random\n",
    "random.seed = RANDOM_STATE"
   ]
  },
  {
   "cell_type": "markdown",
   "metadata": {},
   "source": [
    "## Set constants"
   ]
  },
  {
   "cell_type": "code",
   "execution_count": 2,
   "metadata": {},
   "outputs": [],
   "source": [
    "# IMG_WIDTH = 256\n",
    "# IMG_HEIGHT = 256\n",
    "IMG_WIDTH = 128\n",
    "IMG_HEIGHT = 128\n",
    "IMG_NUM_CHANNELS = 3\n",
    "NUM_CLASSES = 2\n",
    "\n",
    "PRED_THRESHOLD = 0.5\n",
    "\n",
    "PATH_TRAINING = \"../data/kaggle_data_science_bowl_2018/stage1_train\"\n",
    "PATH_TEST = \"../data/kaggle_data_science_bowl_2018/stage1_test\"\n",
    "# PATH_TRAINING = \"../input/stage1_train/\"     # Kaggle kernel\n",
    "# PATH_TEST = \"../input/stage1_test/\"          # Kaggle kernel\n",
    "SUBFOLDER_IMAGES = \"images\"\n",
    "SUBFOLDER_MASKS = \"masks\"\n",
    "SUFFIX = \".png\"\n",
    "FILE_SUFFIX = \"128bn-aug-shuf-ecxl\"     # Change this to give output files meaningfil names\n",
    "\n",
    "MODEL_PATH = \"../savedmodels\"\n",
    "OUTPUT_PATH = \"../output\"\n",
    "# MODEL_PATH = \"\"                               # Kaggle kernel\n",
    "# OUTPUT_PATH = \"\"                              # Kaggle kernel\n",
    "\n",
    "NUM_EPOCH = 70\n",
    "BATCH_SIZE = 8\n",
    "TRAIN_VAL_SPLIT = 0.1\n",
    "STEPS_PER_EPOCH = 250\n",
    "DROPOUT_RATE1 = 0.1\n",
    "DROPOUT_RATE2 = 0.2\n",
    "DROPOUT_RATE3 = 0.3"
   ]
  },
  {
   "cell_type": "markdown",
   "metadata": {},
   "source": [
    "## Import packages"
   ]
  },
  {
   "cell_type": "code",
   "execution_count": 3,
   "metadata": {},
   "outputs": [
    {
     "name": "stderr",
     "output_type": "stream",
     "text": [
      "Using TensorFlow backend.\n"
     ]
    }
   ],
   "source": [
    "from keras.models import load_model\n",
    "from keras import backend as K\n",
    "from keras.layers import Input, Conv2D, Dropout,MaxPooling2D, Conv2DTranspose, concatenate, Lambda, BatchNormalization\n",
    "from keras.models import Model\n",
    "from keras.callbacks import EarlyStopping, ModelCheckpoint, CSVLogger\n",
    "from keras.preprocessing.image import ImageDataGenerator\n",
    "from skimage.morphology import label\n",
    "from sklearn.model_selection import train_test_split\n",
    "\n",
    "import tensorflow as tf\n",
    "import cv2\n",
    "import progressbar\n",
    "import numpy as np\n",
    "import pandas as pd\n",
    "import io, os, time\n",
    "\n",
    "import matplotlib.pyplot as plt\n",
    "%matplotlib inline"
   ]
  },
  {
   "cell_type": "markdown",
   "metadata": {},
   "source": [
    "## Helper functions"
   ]
  },
  {
   "cell_type": "code",
   "execution_count": 4,
   "metadata": {},
   "outputs": [],
   "source": [
    "def load_data(source_path, is_training=False):\n",
    "    \"\"\"\n",
    "    Load images and associated segmented masks\n",
    "    :param source_path: path to the data set\n",
    "    :param is_training: True when loading the training set to also load the masks\n",
    "    :return: for the training set: two numpy arrays, one with the images, another with the masks\n",
    "             for the test set: one numpy array with images, one list with original image resolutions\n",
    "    \"\"\"\n",
    "    start_time = time.time()\n",
    "    \n",
    "    images = []\n",
    "    masks = []\n",
    "    org_sizes = []\n",
    "\n",
    "    # Traverse subfolders, read the image and, for the training set only, the masks\n",
    "    img_folders = next(os.walk(source_path))[1]\n",
    "    \n",
    "    widgets = [\"Loading \" + (\"training\" if is_training else \"test\") + \" data \", progressbar.Percentage(), \" \", progressbar.Bar(), \" \", progressbar.ETA()]\n",
    "    pbar = progressbar.ProgressBar(maxval=len(img_folders), widgets=widgets).start()\n",
    "\n",
    "    for i, img_file_name in enumerate(img_folders):\n",
    "        # Exclude images with incorrect masks: https://www.kaggle.com/c/data-science-bowl-2018/discussion/47770\n",
    "        if img_file_name == \"7b38c9173ebe69b4c6ba7e703c0c27f39305d9b2910f46405993d2ea7a963b80\":\n",
    "            continue\n",
    "        \n",
    "        # Path to the current image subfolder\n",
    "        full_path = os.path.join(source_path, img_file_name)\n",
    "\n",
    "        # Path to the single image\n",
    "        image_path = os.path.join(full_path, SUBFOLDER_IMAGES)\n",
    "        image_path = os.path.join(image_path, img_file_name + SUFFIX)\n",
    "\n",
    "        # Read and resize, leave off the alpha channel (some images have alpha channels, not all)\n",
    "        img = cv2.imread(image_path, cv2.IMREAD_COLOR)[:,:,:IMG_NUM_CHANNELS]\n",
    "\n",
    "        # Store the image's original resolution (only needed for test images)\n",
    "        if not is_training:\n",
    "            org_sizes.append(img.shape[0:2])\n",
    "\n",
    "        # Resize to standard dimensions\n",
    "        img = cv2.resize(img, (IMG_HEIGHT, IMG_WIDTH), interpolation=cv2.INTER_AREA)\n",
    "\n",
    "        images.append(img)    \n",
    "        pbar.update(i)\n",
    "\n",
    "        # Load individual masks and combine into one mask image (training set only)\n",
    "        if is_training:\n",
    "            mask_path = os.path.join(full_path, SUBFOLDER_MASKS)\n",
    "            mask = np.zeros(shape=(IMG_HEIGHT, IMG_WIDTH, 1), dtype=np.bool)\n",
    "\n",
    "            mask_files = next(os.walk(mask_path))[2]\n",
    "            for _, mask_file in enumerate(mask_files):\n",
    "                # Ignore incorrect masks\n",
    "                if mask_file == \"a09ae9559f817b104e049e5bb01cf4ad1b87e3ef7fad3dcf932b6585ca3edc05.png\":\n",
    "                    continue\n",
    "\n",
    "                # Read the mask and combine it with the previous masks\n",
    "                tmp_mask = cv2.imread(os.path.join(mask_path, mask_file), cv2.IMREAD_GRAYSCALE)\n",
    "\n",
    "                tmp_mask = cv2.threshold(tmp_mask, 127, 1.0, cv2.THRESH_BINARY)[1]\n",
    "                tmp_mask = cv2.resize(tmp_mask, (IMG_HEIGHT, IMG_WIDTH), interpolation=cv2.INTER_AREA)\n",
    "                \n",
    "                tmp_mask = np.expand_dims(tmp_mask, axis=-1)\n",
    "                mask = np.maximum(mask, tmp_mask).astype(np.bool)\n",
    "\n",
    "            # Add the combined masks (this works because pixels belong to only one mask)\n",
    "            masks.append(mask)\n",
    "\n",
    "    pbar.finish()\n",
    "    print(\"Elapsed time: {}\".format(time.time() - start_time))\n",
    "    \n",
    "    if is_training:\n",
    "        return np.array(images, dtype=np.uint8), np.array(masks, dtype=np.bool)\n",
    "    else:\n",
    "        return np.array(images, dtype=np.uint8), org_sizes"
   ]
  },
  {
   "cell_type": "code",
   "execution_count": 5,
   "metadata": {},
   "outputs": [],
   "source": [
    "def mean_iou(y_true, y_pred):\n",
    "    \"\"\"Calculate the score as defined by the competition, courtesy of:\n",
    "    https://www.kaggle.com/keegil/keras-u-net-starter-lb-0-277\n",
    "    \"\"\"\n",
    "    prec = []\n",
    "    for t in np.arange(0.5, 1.0, 0.05):\n",
    "        y_pred_ = tf.to_int32(y_pred > t)\n",
    "        score, up_opt = tf.metrics.mean_iou(y_true, y_pred_, 2)\n",
    "        K.get_session().run(tf.local_variables_initializer())\n",
    "        with tf.control_dependencies([up_opt]):\n",
    "            score = tf.identity(score)\n",
    "        prec.append(score)\n",
    "    \n",
    "    return K.mean(K.stack(prec), axis=0)"
   ]
  },
  {
   "cell_type": "raw",
   "metadata": {},
   "source": [
    "def dice_coef(y_true, y_pred):\n",
    "    smooth = 1.\n",
    "    y_true_f = K.flatten(y_true)\n",
    "    y_pred_f = K.flatten(y_pred)\n",
    "    intersection = K.sum(y_true_f * y_pred_f)\n",
    "    \n",
    "    return (2. * intersection + smooth) / (K.sum(y_true_f) + K.sum(y_pred_f) + smooth)\n",
    "\n",
    "def dice_coef_loss(y_true, y_pred):\n",
    "    return -dice_coef(y_true, y_pred)"
   ]
  },
  {
   "cell_type": "markdown",
   "metadata": {},
   "source": [
    "## U-nets"
   ]
  },
  {
   "cell_type": "markdown",
   "metadata": {},
   "source": [
    "## U-Net 128x128x3 with BN instead of Dropout"
   ]
  },
  {
   "cell_type": "code",
   "execution_count": 6,
   "metadata": {},
   "outputs": [],
   "source": [
    "def create_unet128_bn(img_height, img_width, img_num_channels):\n",
    "    \"\"\"Create a U-Net model for 128x128x3 inputs with Dropout. Courtesy of:\n",
    "    https://www.kaggle.com/keegil/keras-u-net-starter-lb-0-277\n",
    "    \"\"\"\n",
    "    inputs = Input((img_height, img_width, img_num_channels))\n",
    "    s = Lambda(lambda x: x / 255)(inputs)\n",
    "\n",
    "    c1 = Conv2D(16, (3, 3), activation='elu', kernel_initializer='he_normal', padding='same')(s)\n",
    "    c1 = BatchNormalization()(c1)\n",
    "    c1 = Conv2D(16, (3, 3), activation='elu', kernel_initializer='he_normal', padding='same')(c1)\n",
    "    p1 = MaxPooling2D((2, 2))(c1)\n",
    "\n",
    "    c2 = Conv2D(32, (3, 3), activation='elu', kernel_initializer='he_normal', padding='same')(p1)\n",
    "    c2 = BatchNormalization()(c2)\n",
    "    c2 = Conv2D(32, (3, 3), activation='elu', kernel_initializer='he_normal', padding='same')(c2)\n",
    "    p2 = MaxPooling2D((2, 2))(c2)\n",
    "\n",
    "    c3 = Conv2D(64, (3, 3), activation='elu', kernel_initializer='he_normal', padding='same')(p2)\n",
    "    c3 = BatchNormalization()(c3)\n",
    "    c3 = Conv2D(64, (3, 3), activation='elu', kernel_initializer='he_normal', padding='same')(c3)\n",
    "    p3 = MaxPooling2D((2, 2))(c3)\n",
    "\n",
    "    c4 = Conv2D(128, (3, 3), activation='elu', kernel_initializer='he_normal', padding='same')(p3)\n",
    "    c4 = BatchNormalization()(c4)\n",
    "    c4 = Conv2D(128, (3, 3), activation='elu', kernel_initializer='he_normal', padding='same')(c4)\n",
    "    p4 = MaxPooling2D(pool_size=(2, 2))(c4)\n",
    "\n",
    "    c5 = Conv2D(256, (3, 3), activation='elu', kernel_initializer='he_normal', padding='same')(p4)\n",
    "    c5 = BatchNormalization()(c5)\n",
    "    c5 = Conv2D(256, (3, 3), activation='elu', kernel_initializer='he_normal', padding='same')(c5)\n",
    "\n",
    "    u6 = Conv2DTranspose(128, (2, 2), strides=(2, 2), padding='same')(c5)\n",
    "    u6 = concatenate([u6, c4])\n",
    "    c6 = Conv2D(128, (3, 3), activation='elu', kernel_initializer='he_normal', padding='same')(u6)\n",
    "    c6 = BatchNormalization()(c6)\n",
    "    c6 = Conv2D(128, (3, 3), activation='elu', kernel_initializer='he_normal', padding='same')(c6)\n",
    "\n",
    "    u7 = Conv2DTranspose(64, (2, 2), strides=(2, 2), padding='same')(c6)\n",
    "    u7 = concatenate([u7, c3])\n",
    "    c7 = Conv2D(64, (3, 3), activation='elu', kernel_initializer='he_normal', padding='same')(u7)\n",
    "    c7 = BatchNormalization()(c7)\n",
    "    c7 = Conv2D(64, (3, 3), activation='elu', kernel_initializer='he_normal', padding='same')(c7)\n",
    "\n",
    "    u8 = Conv2DTranspose(32, (2, 2), strides=(2, 2), padding='same')(c7)\n",
    "    u8 = concatenate([u8, c2])\n",
    "    c8 = Conv2D(32, (3, 3), activation='elu', kernel_initializer='he_normal', padding='same')(u8)\n",
    "    c8 = BatchNormalization()(c8)\n",
    "    c8 = Conv2D(32, (3, 3), activation='elu', kernel_initializer='he_normal', padding='same')(c8)\n",
    "\n",
    "    u9 = Conv2DTranspose(16, (2, 2), strides=(2, 2), padding='same')(c8)\n",
    "    u9 = concatenate([u9, c1], axis=3)\n",
    "    c9 = Conv2D(16, (3, 3), activation='elu', kernel_initializer='he_normal', padding='same')(u9)\n",
    "    c9 = BatchNormalization()(c9)\n",
    "    c9 = Conv2D(16, (3, 3), activation='elu', kernel_initializer='he_normal', padding='same')(c9)\n",
    "\n",
    "    outputs = Conv2D(1, (1, 1), activation='sigmoid')(c9)\n",
    "\n",
    "    model = Model(inputs=[inputs], outputs=[outputs])\n",
    "\n",
    "    return model"
   ]
  },
  {
   "cell_type": "markdown",
   "metadata": {},
   "source": [
    "### U-Net 128x128x3 with Dropout"
   ]
  },
  {
   "cell_type": "raw",
   "metadata": {},
   "source": [
    "def create_unet128(img_height, img_width, img_num_channels):\n",
    "    \"\"\"Create a U-Net model for 128x128x3 inputs with Dropout. Courtesy of:\n",
    "    https://www.kaggle.com/keegil/keras-u-net-starter-lb-0-277\n",
    "    \"\"\"\n",
    "    inputs = Input((img_height, img_width, img_num_channels))\n",
    "    s = Lambda(lambda x: x / 255)(inputs)\n",
    "\n",
    "    c1 = Conv2D(16, (3, 3), activation='elu', kernel_initializer='he_normal', padding='same')(s)\n",
    "    c1 = Dropout(DROPOUT_RATE1)(c1)\n",
    "    c1 = Conv2D(16, (3, 3), activation='elu', kernel_initializer='he_normal', padding='same')(c1)\n",
    "    p1 = MaxPooling2D((2, 2))(c1)\n",
    "\n",
    "    c2 = Conv2D(32, (3, 3), activation='elu', kernel_initializer='he_normal', padding='same')(p1)\n",
    "    c2 = Dropout(DROPOUT_RATE1)(c2)\n",
    "    c2 = Conv2D(32, (3, 3), activation='elu', kernel_initializer='he_normal', padding='same')(c2)\n",
    "    p2 = MaxPooling2D((2, 2))(c2)\n",
    "\n",
    "    c3 = Conv2D(64, (3, 3), activation='elu', kernel_initializer='he_normal', padding='same')(p2)\n",
    "    c3 = Dropout(DROPOUT_RATE2)(c3)\n",
    "    c3 = Conv2D(64, (3, 3), activation='elu', kernel_initializer='he_normal', padding='same')(c3)\n",
    "    p3 = MaxPooling2D((2, 2))(c3)\n",
    "\n",
    "    c4 = Conv2D(128, (3, 3), activation='elu', kernel_initializer='he_normal', padding='same')(p3)\n",
    "    c4 = Dropout(DROPOUT_RATE2)(c4)\n",
    "    c4 = Conv2D(128, (3, 3), activation='elu', kernel_initializer='he_normal', padding='same')(c4)\n",
    "    p4 = MaxPooling2D(pool_size=(2, 2))(c4)\n",
    "\n",
    "    c5 = Conv2D(256, (3, 3), activation='elu', kernel_initializer='he_normal', padding='same')(p4)\n",
    "    c5 = Dropout(DROPOUT_RATE3)(c5)\n",
    "    c5 = Conv2D(256, (3, 3), activation='elu', kernel_initializer='he_normal', padding='same')(c5)\n",
    "\n",
    "    u6 = Conv2DTranspose(128, (2, 2), strides=(2, 2), padding='same')(c5)\n",
    "    u6 = concatenate([u6, c4])\n",
    "    c6 = Conv2D(128, (3, 3), activation='elu', kernel_initializer='he_normal', padding='same')(u6)\n",
    "    c6 = Dropout(DROPOUT_RATE2)(c6)\n",
    "    c6 = Conv2D(128, (3, 3), activation='elu', kernel_initializer='he_normal', padding='same')(c6)\n",
    "\n",
    "    u7 = Conv2DTranspose(64, (2, 2), strides=(2, 2), padding='same')(c6)\n",
    "    u7 = concatenate([u7, c3])\n",
    "    c7 = Conv2D(64, (3, 3), activation='elu', kernel_initializer='he_normal', padding='same')(u7)\n",
    "    c7 = Dropout(DROPOUT_RATE2)(c7)\n",
    "    c7 = Conv2D(64, (3, 3), activation='elu', kernel_initializer='he_normal', padding='same')(c7)\n",
    "\n",
    "    u8 = Conv2DTranspose(32, (2, 2), strides=(2, 2), padding='same')(c7)\n",
    "    u8 = concatenate([u8, c2])\n",
    "    c8 = Conv2D(32, (3, 3), activation='elu', kernel_initializer='he_normal', padding='same')(u8)\n",
    "    c8 = Dropout(DROPOUT_RATE1)(c8)\n",
    "    c8 = Conv2D(32, (3, 3), activation='elu', kernel_initializer='he_normal', padding='same')(c8)\n",
    "\n",
    "    u9 = Conv2DTranspose(16, (2, 2), strides=(2, 2), padding='same')(c8)\n",
    "    u9 = concatenate([u9, c1], axis=3)\n",
    "    c9 = Conv2D(16, (3, 3), activation='elu', kernel_initializer='he_normal', padding='same')(u9)\n",
    "    c9 = Dropout(DROPOUT_RATE1)(c9)\n",
    "    c9 = Conv2D(16, (3, 3), activation='elu', kernel_initializer='he_normal', padding='same')(c9)\n",
    "\n",
    "    outputs = Conv2D(1, (1, 1), activation='sigmoid')(c9)\n",
    "\n",
    "    model = Model(inputs=[inputs], outputs=[outputs])\n",
    "\n",
    "    return model"
   ]
  },
  {
   "cell_type": "markdown",
   "metadata": {},
   "source": [
    "### U-Net 256x256x3"
   ]
  },
  {
   "cell_type": "raw",
   "metadata": {},
   "source": [
    "def create_unet256(img_height, img_width, img_num_channels):\n",
    "    \"\"\"Create a U-Net model for 256x256x3 inputs. Courtesy of:\n",
    "    https://www.kaggle.com/weiji14/yet-another-keras-u-net-data-augmentation\n",
    "    \"\"\"\n",
    "    exponents_contr = [4, 5, 6, 7, 8, 9]\n",
    "    k_size = (3, 3)\n",
    "    k_init = \"he_normal\"\n",
    "    k_stride = (2, 2)\n",
    "    activation = \"elu\"\n",
    "    padding = \"same\"\n",
    "\n",
    "    if K.image_data_format() == 'channels_first':\n",
    "        colour_axis = 1\n",
    "        input_shape = (img_num_channels, img_width, img_height)\n",
    "    elif K.image_data_format() == 'channels_last':\n",
    "        colour_axis = 3\n",
    "        input_shape = (img_height, img_width, img_num_channels)\n",
    "\n",
    "    input = Input(shape=input_shape)\n",
    "    s = Lambda(lambda x: x / 255)(input)\n",
    "    encodeds = []\n",
    "\n",
    "    # Contracting path\n",
    "    enc = s\n",
    "    for l_idx, lyr_exp in enumerate(exponents_contr):\n",
    "        enc = Conv2D(filters=2**lyr_exp,\n",
    "                     kernel_size=k_size,\n",
    "                     activation=activation,\n",
    "                     padding=padding,\n",
    "                     kernel_initializer=k_init)(enc)\n",
    "        enc = Dropout(DROPOUT_RATE2)(enc)\n",
    "        enc = Conv2D(filters=2**lyr_exp,\n",
    "                     kernel_size=k_size,\n",
    "                     activation=activation,\n",
    "                     padding=padding,\n",
    "                     kernel_initializer=k_init)(enc)\n",
    "        encodeds.append(enc)\n",
    "\n",
    "        # Add max pooling after the two Conv2D layers except fo the \"bottom\" of the U-Net\n",
    "        if lyr_exp < exponents_contr[-1]:\n",
    "            enc = MaxPooling2D(pool_size=(2, 2))(enc)\n",
    "\n",
    "    # Expansive path\n",
    "    dec = enc\n",
    "    exponents_exp = exponents_contr[::-1][1:]\n",
    "    for l_idx, lyr_exp in enumerate(exponents_exp):\n",
    "        l_idx_rev = len(exponents_contr) - l_idx - 2\n",
    "        dec = Conv2DTranspose(filters=2**lyr_exp,\n",
    "                              kernel_size=k_size,\n",
    "                              strides=k_stride,\n",
    "                              activation=activation,\n",
    "                              padding=padding,\n",
    "                              kernel_initializer=k_init)(dec)\n",
    "        dec = concatenate([dec, encodeds[l_idx_rev]], axis=colour_axis)\n",
    "        dec = Conv2D(filters=2**lyr_exp,\n",
    "                     kernel_size=k_size,\n",
    "                     activation=activation,\n",
    "                     padding=padding,\n",
    "                     kernel_initializer=k_init)(dec)\n",
    "        dec = Dropout(DROPOUT_RATE2)(dec)\n",
    "        dec = Conv2D(filters=2**lyr_exp,\n",
    "                     kernel_size=k_size,\n",
    "                     activation=activation,\n",
    "                     padding=padding,\n",
    "                     kernel_initializer=k_init)(dec)\n",
    "\n",
    "    output = Conv2DTranspose(filters=1,\n",
    "                             kernel_size=(1, 1),\n",
    "                             activation='sigmoid',\n",
    "                             padding=padding,\n",
    "                             kernel_initializer='glorot_normal')(dec)\n",
    "\n",
    "    model = Model(inputs=[input], outputs=[output])\n",
    "\n",
    "    return model"
   ]
  },
  {
   "cell_type": "markdown",
   "metadata": {},
   "source": [
    "### U-Net 128x128x3 alternate: no dropout, one less layer"
   ]
  },
  {
   "cell_type": "raw",
   "metadata": {},
   "source": [
    "def create_unet128_alt(img_height, img_width, img_num_channels):\n",
    "    \"\"\"Courtesy of: https://www.kaggle.com/lscoelho/keras-u-net-lb-0-277-epochs-vsplit-thr\"\"\"\n",
    "    inputs = Input((img_height, img_width, img_num_channels))\n",
    "    s = Lambda(lambda x: x / 255) (inputs)\n",
    "\n",
    "    c1 = Conv2D(8, (3, 3), activation='relu', padding='same') (s)\n",
    "    c1 = Conv2D(8, (3, 3), activation='relu', padding='same') (c1)\n",
    "    p1 = MaxPooling2D((2, 2)) (c1)\n",
    "\n",
    "    c2 = Conv2D(16, (3, 3), activation='relu', padding='same') (p1)\n",
    "    c2 = Conv2D(16, (3, 3), activation='relu', padding='same') (c2)\n",
    "    p2 = MaxPooling2D((2, 2)) (c2)\n",
    "\n",
    "    c3 = Conv2D(32, (3, 3), activation='relu', padding='same') (p2)\n",
    "    c3 = Conv2D(32, (3, 3), activation='relu', padding='same') (c3)\n",
    "    p3 = MaxPooling2D((2, 2)) (c3)\n",
    "\n",
    "    c4 = Conv2D(64, (3, 3), activation='relu', padding='same') (p3)\n",
    "    c4 = Conv2D(64, (3, 3), activation='relu', padding='same') (c4)\n",
    "    p4 = MaxPooling2D(pool_size=(2, 2)) (c4)\n",
    "\n",
    "    c5 = Conv2D(128, (3, 3), activation='relu', padding='same') (p4)\n",
    "    c5 = Conv2D(128, (3, 3), activation='relu', padding='same') (c5)\n",
    "\n",
    "    u6 = Conv2DTranspose(64, (2, 2), strides=(2, 2), padding='same') (c5)\n",
    "    u6 = concatenate([u6, c4])\n",
    "    c6 = Conv2D(64, (3, 3), activation='relu', padding='same') (u6)\n",
    "    c6 = Conv2D(64, (3, 3), activation='relu', padding='same') (c6)\n",
    "\n",
    "    u7 = Conv2DTranspose(32, (2, 2), strides=(2, 2), padding='same') (c6)\n",
    "    u7 = concatenate([u7, c3])\n",
    "    c7 = Conv2D(32, (3, 3), activation='relu', padding='same') (u7)\n",
    "    c7 = Conv2D(32, (3, 3), activation='relu', padding='same') (c7)\n",
    "\n",
    "    u8 = Conv2DTranspose(16, (2, 2), strides=(2, 2), padding='same') (c7)\n",
    "    u8 = concatenate([u8, c2])\n",
    "    c8 = Conv2D(16, (3, 3), activation='relu', padding='same') (u8)\n",
    "    c8 = Conv2D(16, (3, 3), activation='relu', padding='same') (c8)\n",
    "\n",
    "    u9 = Conv2DTranspose(8, (2, 2), strides=(2, 2), padding='same') (c8)\n",
    "    u9 = concatenate([u9, c1], axis=3)\n",
    "    c9 = Conv2D(8, (3, 3), activation='relu', padding='same') (u9)\n",
    "    c9 = Conv2D(8, (3, 3), activation='relu', padding='same') (c9)\n",
    "\n",
    "    outputs = Conv2D(1, (1, 1), activation='sigmoid') (c9)\n",
    "\n",
    "    model = Model(inputs=[inputs], outputs=[outputs])\n",
    "    \n",
    "    return model"
   ]
  },
  {
   "cell_type": "markdown",
   "metadata": {},
   "source": [
    "## Submission file creation"
   ]
  },
  {
   "cell_type": "code",
   "execution_count": 7,
   "metadata": {},
   "outputs": [],
   "source": [
    "def rle_encoding(img):\n",
    "    \"\"\"Courtesy of: https://www.kaggle.com/rakhlin/fast-run-length-encoding-python\"\"\"\n",
    "    pixels = np.where(img.T.flatten() == 1)[0]\n",
    "    run_lengths = []\n",
    "    prev = -2\n",
    "    for b in pixels:\n",
    "        if (b > prev+1):\n",
    "            run_lengths.extend((b + 1, 0))\n",
    "\n",
    "        run_lengths[-1] += 1\n",
    "        prev = b\n",
    "\n",
    "    return run_lengths\n",
    "\n",
    "def prob_to_rles(x, cutoff=PRED_THRESHOLD):\n",
    "    \"\"\"Courtesy of: https://www.kaggle.com/rakhlin/fast-run-length-encoding-python\"\"\"\n",
    "    lab_img = label(x > cutoff)\n",
    "    for i in range(1, lab_img.max() + 1):\n",
    "        yield rle_encoding(lab_img == i)\n",
    "        \n",
    "def create_submission_file(preds, path, org_sizes):\n",
    "    \"\"\"Create a file with run-length encoding on the pixel values\n",
    "    Courtesy of: https://www.kaggle.com/rakhlin/fast-run-length-encoding-python\n",
    "    \"\"\"\n",
    "    start_time = time.time()\n",
    "\n",
    "    # Resize the predictions to the size of the original image (images do not all have the same resolution)\n",
    "    img_folders = next(os.walk(path))[1]\n",
    "    preds_org_size = []\n",
    "    for i in range(len(preds)):\n",
    "        preds_org_size.append(cv2.resize(np.squeeze(preds[i]),\n",
    "                                           (org_sizes[i][0], org_sizes[i][1]),\n",
    "                                           interpolation=cv2.INTER_AREA))\n",
    "\n",
    "    new_test_ids = []\n",
    "    rles = []\n",
    "    for n, id_ in enumerate(img_folders):\n",
    "        rle = list(prob_to_rles(preds_org_size[n]))\n",
    "        rles.extend(rle)\n",
    "        new_test_ids.extend([id_] * len(rle))\n",
    "\n",
    "    sub = pd.DataFrame()\n",
    "    sub['ImageId'] = new_test_ids\n",
    "    sub['EncodedPixels'] = pd.Series(rles).apply(lambda x: ' '.join(str(y) for y in x))\n",
    "    sub.to_csv(os.path.join(OUTPUT_PATH, \"{}-submission.csv\".format(FILE_SUFFIX)), index=False)\n",
    "    \n",
    "    print(\"Elapsed time: {}\".format(time.time() - start_time))"
   ]
  },
  {
   "cell_type": "markdown",
   "metadata": {},
   "source": [
    "## Start training"
   ]
  },
  {
   "cell_type": "code",
   "execution_count": 8,
   "metadata": {},
   "outputs": [
    {
     "name": "stderr",
     "output_type": "stream",
     "text": [
      "Loading training data 100% |####################################| Time: 0:00:34\n",
      "Loading test data  27% |###########                             | ETA:  0:00:00"
     ]
    },
    {
     "name": "stdout",
     "output_type": "stream",
     "text": [
      "Elapsed time: 34.93809723854065\n"
     ]
    },
    {
     "name": "stderr",
     "output_type": "stream",
     "text": [
      "Loading test data 100% |########################################| Time: 0:00:00\n"
     ]
    },
    {
     "name": "stdout",
     "output_type": "stream",
     "text": [
      "Elapsed time: 0.3199269771575928\n"
     ]
    }
   ],
   "source": [
    "# Load and shuffe the training data\n",
    "X_full, Y_full = load_data(PATH_TRAINING, is_training=True)\n",
    "idx = np.random.permutation(len(X_full))\n",
    "X_full, Y_full = X_full[idx], Y_full[idx]\n",
    "\n",
    "# Load the test data\n",
    "X_test, test_org_sizes = load_data(PATH_TEST, is_training=False)"
   ]
  },
  {
   "cell_type": "code",
   "execution_count": 9,
   "metadata": {},
   "outputs": [],
   "source": [
    "# Prepare paths\n",
    "model_path = os.path.join(MODEL_PATH, \"{}.model\".format(FILE_SUFFIX))\n",
    "csv_path = os.path.join(OUTPUT_PATH, \"{}-training.csv\".format(FILE_SUFFIX))"
   ]
  },
  {
   "cell_type": "code",
   "execution_count": 13,
   "metadata": {},
   "outputs": [
    {
     "name": "stdout",
     "output_type": "stream",
     "text": [
      "__________________________________________________________________________________________________\n",
      "Layer (type)                    Output Shape         Param #     Connected to                     \n",
      "==================================================================================================\n",
      "input_2 (InputLayer)            (None, 128, 128, 3)  0                                            \n",
      "__________________________________________________________________________________________________\n",
      "lambda_2 (Lambda)               (None, 128, 128, 3)  0           input_2[0][0]                    \n",
      "__________________________________________________________________________________________________\n",
      "conv2d_20 (Conv2D)              (None, 128, 128, 16) 448         lambda_2[0][0]                   \n",
      "__________________________________________________________________________________________________\n",
      "batch_normalization_10 (BatchNo (None, 128, 128, 16) 64          conv2d_20[0][0]                  \n",
      "__________________________________________________________________________________________________\n",
      "conv2d_21 (Conv2D)              (None, 128, 128, 16) 2320        batch_normalization_10[0][0]     \n",
      "__________________________________________________________________________________________________\n",
      "max_pooling2d_5 (MaxPooling2D)  (None, 64, 64, 16)   0           conv2d_21[0][0]                  \n",
      "__________________________________________________________________________________________________\n",
      "conv2d_22 (Conv2D)              (None, 64, 64, 32)   4640        max_pooling2d_5[0][0]            \n",
      "__________________________________________________________________________________________________\n",
      "batch_normalization_11 (BatchNo (None, 64, 64, 32)   128         conv2d_22[0][0]                  \n",
      "__________________________________________________________________________________________________\n",
      "conv2d_23 (Conv2D)              (None, 64, 64, 32)   9248        batch_normalization_11[0][0]     \n",
      "__________________________________________________________________________________________________\n",
      "max_pooling2d_6 (MaxPooling2D)  (None, 32, 32, 32)   0           conv2d_23[0][0]                  \n",
      "__________________________________________________________________________________________________\n",
      "conv2d_24 (Conv2D)              (None, 32, 32, 64)   18496       max_pooling2d_6[0][0]            \n",
      "__________________________________________________________________________________________________\n",
      "batch_normalization_12 (BatchNo (None, 32, 32, 64)   256         conv2d_24[0][0]                  \n",
      "__________________________________________________________________________________________________\n",
      "conv2d_25 (Conv2D)              (None, 32, 32, 64)   36928       batch_normalization_12[0][0]     \n",
      "__________________________________________________________________________________________________\n",
      "max_pooling2d_7 (MaxPooling2D)  (None, 16, 16, 64)   0           conv2d_25[0][0]                  \n",
      "__________________________________________________________________________________________________\n",
      "conv2d_26 (Conv2D)              (None, 16, 16, 128)  73856       max_pooling2d_7[0][0]            \n",
      "__________________________________________________________________________________________________\n",
      "batch_normalization_13 (BatchNo (None, 16, 16, 128)  512         conv2d_26[0][0]                  \n",
      "__________________________________________________________________________________________________\n",
      "conv2d_27 (Conv2D)              (None, 16, 16, 128)  147584      batch_normalization_13[0][0]     \n",
      "__________________________________________________________________________________________________\n",
      "max_pooling2d_8 (MaxPooling2D)  (None, 8, 8, 128)    0           conv2d_27[0][0]                  \n",
      "__________________________________________________________________________________________________\n",
      "conv2d_28 (Conv2D)              (None, 8, 8, 256)    295168      max_pooling2d_8[0][0]            \n",
      "__________________________________________________________________________________________________\n",
      "batch_normalization_14 (BatchNo (None, 8, 8, 256)    1024        conv2d_28[0][0]                  \n",
      "__________________________________________________________________________________________________\n",
      "conv2d_29 (Conv2D)              (None, 8, 8, 256)    590080      batch_normalization_14[0][0]     \n",
      "__________________________________________________________________________________________________\n",
      "conv2d_transpose_5 (Conv2DTrans (None, 16, 16, 128)  131200      conv2d_29[0][0]                  \n",
      "__________________________________________________________________________________________________\n",
      "concatenate_5 (Concatenate)     (None, 16, 16, 256)  0           conv2d_transpose_5[0][0]         \n",
      "                                                                 conv2d_27[0][0]                  \n",
      "__________________________________________________________________________________________________\n",
      "conv2d_30 (Conv2D)              (None, 16, 16, 128)  295040      concatenate_5[0][0]              \n",
      "__________________________________________________________________________________________________\n",
      "batch_normalization_15 (BatchNo (None, 16, 16, 128)  512         conv2d_30[0][0]                  \n",
      "__________________________________________________________________________________________________\n",
      "conv2d_31 (Conv2D)              (None, 16, 16, 128)  147584      batch_normalization_15[0][0]     \n",
      "__________________________________________________________________________________________________\n",
      "conv2d_transpose_6 (Conv2DTrans (None, 32, 32, 64)   32832       conv2d_31[0][0]                  \n",
      "__________________________________________________________________________________________________\n",
      "concatenate_6 (Concatenate)     (None, 32, 32, 128)  0           conv2d_transpose_6[0][0]         \n",
      "                                                                 conv2d_25[0][0]                  \n",
      "__________________________________________________________________________________________________\n",
      "conv2d_32 (Conv2D)              (None, 32, 32, 64)   73792       concatenate_6[0][0]              \n",
      "__________________________________________________________________________________________________\n",
      "batch_normalization_16 (BatchNo (None, 32, 32, 64)   256         conv2d_32[0][0]                  \n",
      "__________________________________________________________________________________________________\n",
      "conv2d_33 (Conv2D)              (None, 32, 32, 64)   36928       batch_normalization_16[0][0]     \n",
      "__________________________________________________________________________________________________\n",
      "conv2d_transpose_7 (Conv2DTrans (None, 64, 64, 32)   8224        conv2d_33[0][0]                  \n",
      "__________________________________________________________________________________________________\n",
      "concatenate_7 (Concatenate)     (None, 64, 64, 64)   0           conv2d_transpose_7[0][0]         \n",
      "                                                                 conv2d_23[0][0]                  \n",
      "__________________________________________________________________________________________________\n",
      "conv2d_34 (Conv2D)              (None, 64, 64, 32)   18464       concatenate_7[0][0]              \n",
      "__________________________________________________________________________________________________\n",
      "batch_normalization_17 (BatchNo (None, 64, 64, 32)   128         conv2d_34[0][0]                  \n",
      "__________________________________________________________________________________________________\n",
      "conv2d_35 (Conv2D)              (None, 64, 64, 32)   9248        batch_normalization_17[0][0]     \n",
      "__________________________________________________________________________________________________\n",
      "conv2d_transpose_8 (Conv2DTrans (None, 128, 128, 16) 2064        conv2d_35[0][0]                  \n",
      "__________________________________________________________________________________________________\n",
      "concatenate_8 (Concatenate)     (None, 128, 128, 32) 0           conv2d_transpose_8[0][0]         \n",
      "                                                                 conv2d_21[0][0]                  \n",
      "__________________________________________________________________________________________________\n",
      "conv2d_36 (Conv2D)              (None, 128, 128, 16) 4624        concatenate_8[0][0]              \n",
      "__________________________________________________________________________________________________\n",
      "batch_normalization_18 (BatchNo (None, 128, 128, 16) 64          conv2d_36[0][0]                  \n",
      "__________________________________________________________________________________________________\n",
      "conv2d_37 (Conv2D)              (None, 128, 128, 16) 2320        batch_normalization_18[0][0]     \n",
      "__________________________________________________________________________________________________\n",
      "conv2d_38 (Conv2D)              (None, 128, 128, 1)  17          conv2d_37[0][0]                  \n",
      "==================================================================================================\n",
      "Total params: 1,944,049\n",
      "Trainable params: 1,942,577\n",
      "Non-trainable params: 1,472\n",
      "__________________________________________________________________________________________________\n"
     ]
    }
   ],
   "source": [
    "# Create the Keras model\n",
    "# u_net_model = create_unet256(IMG_HEIGHT, IMG_WIDTH, IMG_NUM_CHANNELS)\n",
    "# u_net_model = create_unet128(IMG_HEIGHT, IMG_WIDTH, IMG_NUM_CHANNELS)\n",
    "u_net_model = create_unet128_bn(IMG_HEIGHT, IMG_WIDTH, IMG_NUM_CHANNELS)\n",
    "# u_net_model = create_unet128_alt(IMG_HEIGHT, IMG_WIDTH, IMG_NUM_CHANNELS)\n",
    "\n",
    "# Compile\n",
    "# u_net_model.compile(optimizer='adam', loss=dice_coef_loss, metrics=[dice_coef, 'acc', 'mse'])\n",
    "u_net_model.compile(optimizer='adam', loss='binary_crossentropy', metrics=[mean_iou])\n",
    "u_net_model.summary()"
   ]
  },
  {
   "cell_type": "code",
   "execution_count": 14,
   "metadata": {},
   "outputs": [],
   "source": [
    "def create_data_generators(X, Y):\n",
    "    \"\"\"Create Keras image data generators\"\"\"\n",
    "    # Split the training set into a training and validation set\n",
    "    X_train, X_val, Y_train, Y_val = train_test_split(X, Y, test_size=TRAIN_VAL_SPLIT, random_state=RANDOM_STATE)\n",
    "\n",
    "    # Create generator arguments\n",
    "    data_gen_args = dict(rotation_range=45.,\n",
    "                         width_shift_range=0.1,\n",
    "                         height_shift_range=0.1,\n",
    "                         shear_range=0.2,\n",
    "                         zoom_range=0.2,\n",
    "                         horizontal_flip=True,\n",
    "                         vertical_flip=True,\n",
    "                         fill_mode='reflect')\n",
    "\n",
    "    # Create and fit the training data generators\n",
    "    train_image_datagen = ImageDataGenerator(**data_gen_args)\n",
    "    train_mask_datagen = ImageDataGenerator(**data_gen_args)\n",
    "\n",
    "    train_image_datagen.fit(X_train, augment=True, seed=RANDOM_STATE)\n",
    "    train_mask_datagen.fit(Y_train, augment=True, seed=RANDOM_STATE)\n",
    "\n",
    "    train_image_gen = train_image_datagen.flow(X_train, batch_size=BATCH_SIZE, shuffle=True, seed=RANDOM_STATE)\n",
    "    train_mask_gen = train_mask_datagen.flow(Y_train, batch_size=BATCH_SIZE, shuffle=True, seed=RANDOM_STATE)\n",
    "\n",
    "    train_generator = zip(train_image_gen, train_mask_gen)\n",
    "\n",
    "    # Create the validation data generators (do not apply any augmentation)\n",
    "    val_image_datagen = ImageDataGenerator()\n",
    "    val_mask_datagen = ImageDataGenerator()\n",
    "\n",
    "    val_image_gen = val_image_datagen.flow(X_val, batch_size=BATCH_SIZE, shuffle=True, seed=RANDOM_STATE)\n",
    "    val_mask_gen = val_mask_datagen.flow(Y_val, batch_size=BATCH_SIZE, shuffle=True, seed=RANDOM_STATE)\n",
    "\n",
    "    val_generator = zip(val_image_gen, val_mask_gen)\n",
    "    \n",
    "    return train_generator, val_generator, len(X_train), len(X_val)"
   ]
  },
  {
   "cell_type": "code",
   "execution_count": 15,
   "metadata": {},
   "outputs": [
    {
     "name": "stdout",
     "output_type": "stream",
     "text": [
      "Epoch 1/70\n",
      "151/150 [==============================] - 133s 884ms/step - loss: 0.1862 - mean_iou: 0.6421 - val_loss: 0.0954 - val_mean_iou: 0.7193\n",
      "\n",
      "Epoch 00001: val_loss improved from inf to 0.09535, saving model to ../savedmodels/gb-full-128bn-aug-shuf-ecxl.model\n",
      "Epoch 2/70\n",
      "151/150 [==============================] - 132s 873ms/step - loss: 0.1073 - mean_iou: 0.7435 - val_loss: 0.0865 - val_mean_iou: 0.7603\n",
      "\n",
      "Epoch 00002: val_loss improved from 0.09535 to 0.08652, saving model to ../savedmodels/gb-full-128bn-aug-shuf-ecxl.model\n",
      "Epoch 3/70\n",
      "151/150 [==============================] - 136s 899ms/step - loss: 0.1057 - mean_iou: 0.7705 - val_loss: 0.1860 - val_mean_iou: 0.7758\n",
      "\n",
      "Epoch 00003: val_loss did not improve\n",
      "Epoch 4/70\n",
      "151/150 [==============================] - 137s 908ms/step - loss: 0.1141 - mean_iou: 0.7768 - val_loss: 0.0722 - val_mean_iou: 0.7798\n",
      "\n",
      "Epoch 00004: val_loss improved from 0.08652 to 0.07220, saving model to ../savedmodels/gb-full-128bn-aug-shuf-ecxl.model\n",
      "Epoch 5/70\n",
      "151/150 [==============================] - 137s 904ms/step - loss: 0.0972 - mean_iou: 0.7838 - val_loss: 0.0692 - val_mean_iou: 0.7869\n",
      "\n",
      "Epoch 00005: val_loss improved from 0.07220 to 0.06920, saving model to ../savedmodels/gb-full-128bn-aug-shuf-ecxl.model\n",
      "Epoch 6/70\n",
      "151/150 [==============================] - 134s 888ms/step - loss: 0.0970 - mean_iou: 0.7895 - val_loss: 0.0656 - val_mean_iou: 0.7925\n",
      "\n",
      "Epoch 00006: val_loss improved from 0.06920 to 0.06560, saving model to ../savedmodels/gb-full-128bn-aug-shuf-ecxl.model\n",
      "Epoch 7/70\n",
      "151/150 [==============================] - 134s 886ms/step - loss: 0.0939 - mean_iou: 0.7942 - val_loss: 0.0663 - val_mean_iou: 0.7964\n",
      "\n",
      "Epoch 00007: val_loss did not improve\n",
      "Epoch 8/70\n",
      "151/150 [==============================] - 134s 885ms/step - loss: 0.0883 - mean_iou: 0.7985 - val_loss: 0.0640 - val_mean_iou: 0.8004\n",
      "\n",
      "Epoch 00008: val_loss improved from 0.06560 to 0.06395, saving model to ../savedmodels/gb-full-128bn-aug-shuf-ecxl.model\n",
      "Epoch 9/70\n",
      "151/150 [==============================] - 133s 882ms/step - loss: 0.0899 - mean_iou: 0.8022 - val_loss: 0.0746 - val_mean_iou: 0.8035\n",
      "\n",
      "Epoch 00009: val_loss did not improve\n",
      "Epoch 10/70\n",
      "151/150 [==============================] - 133s 881ms/step - loss: 0.0905 - mean_iou: 0.8047 - val_loss: 0.0622 - val_mean_iou: 0.8061\n",
      "\n",
      "Epoch 00010: val_loss improved from 0.06395 to 0.06221, saving model to ../savedmodels/gb-full-128bn-aug-shuf-ecxl.model\n",
      "Epoch 11/70\n",
      "151/150 [==============================] - 133s 881ms/step - loss: 0.0944 - mean_iou: 0.8071 - val_loss: 0.0851 - val_mean_iou: 0.8075\n",
      "\n",
      "Epoch 00011: val_loss did not improve\n",
      "Epoch 12/70\n",
      "151/150 [==============================] - 133s 879ms/step - loss: 0.0871 - mean_iou: 0.8085 - val_loss: 0.0630 - val_mean_iou: 0.8095\n",
      "\n",
      "Epoch 00012: val_loss did not improve\n",
      "Epoch 13/70\n",
      "151/150 [==============================] - 133s 879ms/step - loss: 0.0873 - mean_iou: 0.8104 - val_loss: 0.0610 - val_mean_iou: 0.8113\n",
      "\n",
      "Epoch 00013: val_loss improved from 0.06221 to 0.06101, saving model to ../savedmodels/gb-full-128bn-aug-shuf-ecxl.model\n",
      "Epoch 14/70\n",
      "151/150 [==============================] - 132s 877ms/step - loss: 0.0983 - mean_iou: 0.8118 - val_loss: 0.1172 - val_mean_iou: 0.8116\n",
      "\n",
      "Epoch 00014: val_loss did not improve\n",
      "Epoch 15/70\n",
      "151/150 [==============================] - 133s 879ms/step - loss: 0.0902 - mean_iou: 0.8120 - val_loss: 0.0614 - val_mean_iou: 0.8126\n",
      "\n",
      "Epoch 00015: val_loss did not improve\n",
      "Epoch 16/70\n",
      "151/150 [==============================] - 132s 876ms/step - loss: 0.0830 - mean_iou: 0.8133 - val_loss: 0.0569 - val_mean_iou: 0.8140\n",
      "\n",
      "Epoch 00016: val_loss improved from 0.06101 to 0.05693, saving model to ../savedmodels/gb-full-128bn-aug-shuf-ecxl.model\n",
      "Epoch 17/70\n",
      "151/150 [==============================] - 134s 888ms/step - loss: 0.0835 - mean_iou: 0.8147 - val_loss: 0.0636 - val_mean_iou: 0.8154\n",
      "\n",
      "Epoch 00017: val_loss did not improve\n",
      "Epoch 18/70\n",
      "151/150 [==============================] - 134s 888ms/step - loss: 0.0815 - mean_iou: 0.8160 - val_loss: 0.0599 - val_mean_iou: 0.8167\n",
      "\n",
      "Epoch 00018: val_loss did not improve\n",
      "Epoch 19/70\n",
      "151/150 [==============================] - 134s 888ms/step - loss: 0.0865 - mean_iou: 0.8172 - val_loss: 0.0591 - val_mean_iou: 0.8177\n",
      "\n",
      "Epoch 00019: val_loss did not improve\n",
      "Epoch 20/70\n",
      "151/150 [==============================] - 135s 891ms/step - loss: 0.0826 - mean_iou: 0.8183 - val_loss: 0.0637 - val_mean_iou: 0.8187\n",
      "\n",
      "Epoch 00020: val_loss did not improve\n",
      "Epoch 21/70\n",
      "151/150 [==============================] - 134s 888ms/step - loss: 0.0836 - mean_iou: 0.8192 - val_loss: 0.0638 - val_mean_iou: 0.8196\n",
      "\n",
      "Epoch 00021: val_loss did not improve\n",
      "Epoch 22/70\n",
      "151/150 [==============================] - 134s 891ms/step - loss: 0.0855 - mean_iou: 0.8200 - val_loss: 0.0625 - val_mean_iou: 0.8203\n",
      "\n",
      "Epoch 00022: val_loss did not improve\n",
      "Epoch 00022: early stopping\n",
      "Elapsed training time: 2954.6364040374756\n"
     ]
    }
   ],
   "source": [
    "# Fit\n",
    "start_time = time.time()\n",
    "callbacks = [ModelCheckpoint(model_path, monitor=\"val_loss\", mode=\"auto\", save_best_only=True, verbose=1),\n",
    "             EarlyStopping(monitor='val_loss', min_delta=0, patience=6, verbose=1, mode=\"auto\"),\n",
    "             CSVLogger(csv_path, append=False)\n",
    "             ]\n",
    "\n",
    "# WITHOUT data augmentation\n",
    "# history = u_net_model.fit(x=X_full,\n",
    "#                           y=Y_full,\n",
    "#                           validation_split=TRAIN_VAL_SPLIT,\n",
    "#                           batch_size=BATCH_SIZE,\n",
    "#                           epochs=NUM_EPOCH,\n",
    "#                           verbose=1,\n",
    "#                           callbacks=callbacks)\n",
    "\n",
    "# WITH data augmentation\n",
    "train_gen, val_gen, len_train, len_val = create_data_generators(X_full, Y_full)\n",
    "history = u_net_model.fit_generator(generator=train_gen,\n",
    "                                    validation_data=val_gen,\n",
    "                                    steps_per_epoch=2*len_train/BATCH_SIZE,\n",
    "                                    validation_steps=len_val/BATCH_SIZE,\n",
    "                                    epochs=NUM_EPOCH,\n",
    "                                    verbose=1,\n",
    "                                    callbacks=callbacks)\n",
    "\n",
    "print(\"Elapsed training time: {}\".format(time.time() - start_time))"
   ]
  },
  {
   "cell_type": "code",
   "execution_count": 16,
   "metadata": {},
   "outputs": [
    {
     "data": {
      "text/plain": [
       "Text(0.5,1,'IoU Curves')"
      ]
     },
     "execution_count": 16,
     "metadata": {},
     "output_type": "execute_result"
    },
    {
     "data": {
      "image/png": "[encoded data removed]",
      "text/plain": [
       "<matplotlib.figure.Figure at 0x1c5acac8d0>"
      ]
     },
     "metadata": {},
     "output_type": "display_data"
    },
    {
     "data": {
      "image/png": "[encoded data removed]",
      "text/plain": [
       "<matplotlib.figure.Figure at 0x1c59dd38d0>"
      ]
     },
     "metadata": {},
     "output_type": "display_data"
    }
   ],
   "source": [
    "# Loss Curves\n",
    "plt.figure(figsize=[8,6])\n",
    "plt.plot(history.history['loss'],'r',linewidth=3.0)\n",
    "plt.plot(history.history['val_loss'],'b',linewidth=3.0)\n",
    "plt.legend(['Training loss', 'Validation Loss'],fontsize=18)\n",
    "plt.xlabel('Epochs ',fontsize=16)\n",
    "plt.ylabel('Loss',fontsize=16)\n",
    "plt.title('Loss Curves',fontsize=16)\n",
    " \n",
    "# IoU Curves\n",
    "plt.figure(figsize=[8,6])\n",
    "plt.plot(history.history['mean_iou'],'r',linewidth=3.0)\n",
    "plt.plot(history.history['val_mean_iou'],'b',linewidth=3.0)\n",
    "plt.legend(['Training IoU', 'Validation IoU'],fontsize=18)\n",
    "plt.xlabel('Epochs ',fontsize=16)\n",
    "plt.ylabel('IoU',fontsize=16)\n",
    "plt.title('IoU Curves',fontsize=16)"
   ]
  },
  {
   "cell_type": "code",
   "execution_count": 17,
   "metadata": {},
   "outputs": [
    {
     "name": "stdout",
     "output_type": "stream",
     "text": [
      "65/65 [==============================] - 3s 46ms/step\n"
     ]
    }
   ],
   "source": [
    "# Make predictions\n",
    "u_net_model = load_model(model_path, custom_objects={\"mean_iou\": mean_iou})\n",
    "# u_net_model = load_model(model_path, custom_objects={\"dice_coef\": dice_coef, \"dice_coef_loss\": dice_coef_loss})\n",
    "\n",
    "test_pred = u_net_model.predict(X_test, verbose=1)\n",
    "test_pred_thresh = (test_pred > PRED_THRESHOLD).astype(np.uint8)"
   ]
  },
  {
   "cell_type": "code",
   "execution_count": 18,
   "metadata": {},
   "outputs": [
    {
     "data": {
      "text/plain": [
       "Text(0.5,1,'Prediction')"
      ]
     },
     "execution_count": 18,
     "metadata": {},
     "output_type": "execute_result"
    },
    {
     "data": {
      "image/png": "[encoded data removed]",
      "text/plain": [
       "<matplotlib.figure.Figure at 0x1c573d8eb8>"
      ]
     },
     "metadata": {},
     "output_type": "display_data"
    }
   ],
   "source": [
    "# Show images and (predicted) masks\n",
    "ix = 64\n",
    "f, axarr = plt.subplots(1, 3)\n",
    "axarr[0].imshow(np.squeeze(X_test[ix]))\n",
    "axarr[0].set_title(\"Original\")\n",
    "axarr[1].imshow(np.squeeze(test_pred_thresh[ix]))\n",
    "axarr[1].set_title(\"Thresholded prediction\")\n",
    "axarr[2].imshow(np.squeeze(test_pred[ix]))\n",
    "axarr[2].set_title(\"Prediction\")"
   ]
  },
  {
   "cell_type": "code",
   "execution_count": 19,
   "metadata": {},
   "outputs": [
    {
     "name": "stdout",
     "output_type": "stream",
     "text": [
      "Elapsed time: 2.164060115814209\n"
     ]
    }
   ],
   "source": [
    "# Produce submission file\n",
    "# create_submission_file(test_pred_thresh, PATH_TEST, test_org_sizes)\n",
    "create_submission_file(test_pred, PATH_TEST, test_org_sizes)"
   ]
  },
  {
   "cell_type": "code",
   "execution_count": null,
   "metadata": {},
   "outputs": [],
   "source": []
  }
 ],
 "metadata": {
  "kernelspec": {
   "display_name": "Python 3",
   "language": "python",
   "name": "python3"
  },
  "language_info": {
   "codemirror_mode": {
    "name": "ipython",
    "version": 3
   },
   "file_extension": ".py",
   "mimetype": "text/x-python",
   "name": "python",
   "nbconvert_exporter": "python",
   "pygments_lexer": "ipython3",
   "version": "3.6.4"
  }
 },
 "nbformat": 4,
 "nbformat_minor": 2
}
