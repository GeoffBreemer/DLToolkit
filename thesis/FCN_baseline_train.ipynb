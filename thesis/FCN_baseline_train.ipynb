{
 "cells": [
  {
   "cell_type": "markdown",
   "metadata": {},
   "source": [
    "# Train the Fully Convolutional Network (FCN) baseline\n",
    "Train an FCN-32s network as defined by [Long (2014)](#References) using limited hyper parameter tuning. Its performance serves as a baseline DECiSION and VOLVuLuS are compared against."
   ]
  },
  {
   "cell_type": "markdown",
   "metadata": {},
   "source": [
    "# Set seeds and import packages\n",
    "Setting the seeds first is meant to achieve reproducibility, though this goal is not entirely achieved."
   ]
  },
  {
   "cell_type": "code",
   "execution_count": 1,
   "metadata": {
    "scrolled": false
   },
   "outputs": [
    {
     "name": "stderr",
     "output_type": "stream",
     "text": [
      "/Users/geoff/anaconda3/envs/ML3-DL-OPENCV/lib/python3.6/site-packages/h5py/__init__.py:36: FutureWarning: Conversion of the second argument of issubdtype from `float` to `np.floating` is deprecated. In future, it will be treated as `np.float64 == np.dtype(float).type`.\n",
      "  from ._conv import register_converters as _register_converters\n",
      "Using TensorFlow backend.\n"
     ]
    }
   ],
   "source": [
    "# Set Python, NumPy and TensorFlow seeds\n",
    "RANDOM_STATE = 42\n",
    "from numpy.random import seed\n",
    "seed(RANDOM_STATE)\n",
    "\n",
    "from tensorflow import set_random_seed\n",
    "set_random_seed(RANDOM_STATE)\n",
    "\n",
    "import random\n",
    "random.seed = RANDOM_STATE\n",
    "\n",
    "# Model and training settings\n",
    "import FCN_baseline_settings as settings\n",
    "\n",
    "# Toolkit imports\n",
    "from dltoolkit.utils.generic import model_architecture_to_file, model_summary_to_file, list_images\n",
    "from dltoolkit.nn.segment import FCN32_NN\n",
    "from dltoolkit.utils.visual import plot_training_history, plot_roc_curve,\\\n",
    "    plot_precision_recall_curve, print_confusion_matrix, print_classification_report\n",
    "from dltoolkit.iomisc import HDF5Generator_Segment\n",
    "\n",
    "from thesis_common import convert_img_to_pred, convert_pred_to_img, create_hdf5_db,\\\n",
    "    show_image, read_images, read_groundtruths, print_training_info\n",
    "from thesis_metric_loss import dice_coef, weighted_pixelwise_crossentropy_loss, evaluate_model\n",
    "\n",
    "# Keras imports\n",
    "from keras.callbacks import ModelCheckpoint, EarlyStopping, CSVLogger, TensorBoard\n",
    "from keras.optimizers import Adam\n",
    "\n",
    "# scikit-learn imports\n",
    "from sklearn.model_selection import train_test_split\n",
    "\n",
    "# Other imports\n",
    "import numpy as np\n",
    "import os, cv2, time, progressbar\n",
    "import matplotlib.pyplot as plt\n",
    "%matplotlib inline"
   ]
  },
  {
   "cell_type": "markdown",
   "metadata": {},
   "source": [
    "# Change how TensorFlow allocates GPU memory\n",
    "Setting `gpu_options.allow_growth` to `True` means TensorFlow will allocate GPU memory as needed rather than using all available memory from the start. This enables monitoring of actual memory usage and determining how close the notebook gets to running out of memory. This has no effect on non-GPU machines."
   ]
  },
  {
   "cell_type": "code",
   "execution_count": 2,
   "metadata": {
    "scrolled": false
   },
   "outputs": [],
   "source": [
    "import tensorflow as tf\n",
    "from keras import backend as k\n",
    "\n",
    "# Don't pre-allocate memory; allocate as-needed\n",
    "config = tf.ConfigProto()\n",
    "config.gpu_options.allow_growth = True\n",
    " \n",
    "# Only allow a percentage of the GPU memory to be allocated\n",
    "# config.gpu_options.per_process_gpu_memory_fraction = 0.5\n",
    " \n",
    "# Create a session with the above options specified\n",
    "k.tensorflow_backend.set_session(tf.Session(config=config))"
   ]
  },
  {
   "cell_type": "markdown",
   "metadata": {},
   "source": [
    "# Determine training settings\n",
    "The variables below determine how the model will be trained:\n",
    "\n",
    "- `USE_GENERATORS`: when set to `True` the training process will use data generators, which is typically what will be required given the size of the models being trained and the size of the images. Set to `False` to (try to) load all training data into memory.\n",
    "- `USE_VALIDATION_SET`: set to `True` to use a validation set during training, which will be the case most of the time. set to `False` to not use a validation set, e.g. during pipeline development/validation.\n",
    "- `IS_DEVELOPMENT`: set to `True` to re-create the HDF5 files every time training is executed, `False` otherwise.\n",
    "\n",
    "**Note** if `TRN_TRAIN_VAL_SPLIT` is set to 0, a validation set will *not* be created, even if `USE_VALIDATION_SET` is set to `True`. In fact, `USE_VALIDATION_SET` will be set to `False`."
   ]
  },
  {
   "cell_type": "code",
   "execution_count": 3,
   "metadata": {},
   "outputs": [],
   "source": [
    "USE_GENERATORS = True\n",
    "USE_VALIDATION_SET = False\n",
    "IS_DEVELOPMENT = True"
   ]
  },
  {
   "cell_type": "markdown",
   "metadata": {},
   "source": [
    "# Convert individual JPGs to HDF5 data sets\n",
    "This function converts individual JPG files to HDF5 data sets. It creates up to four HDF5 files depending on whether a portion of the files is set aside as a validation set using the `settings.TRN_TRAIN_VAL_SPLIT` parameter.\n",
    "\n",
    "This conversion only has to be performed once rather than prior to every training run. However, it takes very little time to run. **Note**: if any changes are made to image pre-processing applied to MRI images and/or their ground truths, the conversion MUST be executed prior to the next training run. Failing to do this means training will be performed on existing HDF5 data sets that do not include the revised pre-processing.\n",
    "\n",
    "The folder stucture is shown below. MRI images (i.e. the individial JPG files, one for each *slice*) are located in the `images` folder. Each patient has a separate subfolder. Ground truths are located in the `groundtruths` folder, again each patient has a separate subfolder. The association between MRI image and ground truth is based on the name of the patient's subfolder **and** the alphabetically sorted file name. An MRI image/ground truth pair constitutes one training sample. The resulting HDF5 data sets are stored in the `images` and `ground truths` subfolders. The training data sets are called `train_images.h5` and `train_groundtruths.h5`. The validation sets, if they were created, are called `val_images.h5` and `val_groundtruths.h5`. \n",
    "\n",
    "```\n",
    "---training\n",
    "|     |--- images\n",
    "|     |      |---patient1\n",
    "|     |      |      |--- image1\n",
    "|     |      |      |--- image2\n",
    "|     |      |      ...\n",
    "|     |      |      |--- imageM\n",
    "|     |      |---patient2\n",
    "|     |      ...\n",
    "|     |      |---patientN\n",
    "|     |--- groundtruths\n",
    "|     |      |---patient1\n",
    "|     |      |      |--- groundtruth1\n",
    "|     |      |      |--- groundtruth2\n",
    "|     |      |      ...\n",
    "|     |      |      |--- groundtruthM\n",
    "|     |      |---patient2\n",
    "|     |      ...\n",
    "|     |      |---patientN\n",
    "\n",
    "```"
   ]
  },
  {
   "cell_type": "code",
   "execution_count": 4,
   "metadata": {
    "scrolled": false
   },
   "outputs": [],
   "source": [
    "def perform_hdf5_conversion(settings):\n",
    "    \"\"\"Convert the individual .jpg files (images and ground truths) to four .hdf5 files:\n",
    "    - Two with the training set (train_images.h5 and train_groundtruths.h5)\n",
    "    - Two with the validation set (val_images.h5 and val_groundtruths.h5)\n",
    "    \n",
    "    If TRN_TRAIN_VAL_SPLIT is set to zero NO validation data sets are generated.\n",
    "    \n",
    "    Returns the path to the HDF5 files and the number of patient folders processed.\n",
    "    \"\"\"\n",
    "    # Prepare the path to the training images and ground truths\n",
    "    img_path = os.path.join(settings.TRAINING_PATH, settings.FLDR_IMAGES)\n",
    "    msk_path = os.path.join(settings.TRAINING_PATH, settings.FLDR_GROUND_TRUTH)\n",
    "\n",
    "    # Create a list of paths to the individual patient folders\n",
    "    patient_fld_imgs = sorted([os.path.join(img_path, e.name)\n",
    "                               for e in os.scandir(img_path) if e.is_dir()])\n",
    "    patient_fld_masks = sorted([os.path.join(msk_path, e.name)\n",
    "                                for e in os.scandir(msk_path) if e.is_dir()])\n",
    "\n",
    "    # Obtain a list of paths to the training images and ground truths for each patient\n",
    "    img_list = []\n",
    "    msk_list = []\n",
    "    for patient_ix, (p_fld_imgs, p_fld_masks) in enumerate(zip(patient_fld_imgs,\n",
    "                                                               patient_fld_masks)):\n",
    "        img_list.extend(sorted(list(list_images(basePath=p_fld_imgs,\n",
    "                                                validExts=settings.IMG_EXTENSION)))\n",
    "                        [settings.SLICE_START:settings.SLICE_END])\n",
    "        msk_list.extend(sorted(list(list_images(basePath=p_fld_masks,\n",
    "                                                validExts=settings.IMG_EXTENSION)))\n",
    "                        [settings.SLICE_START:settings.SLICE_END])\n",
    "\n",
    "    assert(len(img_list) == len(msk_list))\n",
    "\n",
    "    # Split the training set into a training and validation set. Consecutive slices no longer\n",
    "    # belong to the same patient\n",
    "    train_img, val_img, train_msk, val_msk = train_test_split(img_list, msk_list,\n",
    "                                                              test_size=settings.TRN_TRAIN_VAL_SPLIT,\n",
    "                                                              random_state=settings.RANDOM_STATE,\n",
    "                                                              shuffle=True)\n",
    "    \n",
    "    # Create the HDF5 data sets\n",
    "    output_paths = []\n",
    "\n",
    "    # Training images\n",
    "    output_paths.append(create_hdf5_db(train_img, \"train\", img_path,\n",
    "                                       (settings.IMG_HEIGHT,\n",
    "                                        settings.IMG_WIDTH,\n",
    "                                        settings.IMG_CHANNELS),\n",
    "                                       key=settings.HDF5_KEY,\n",
    "                                       ext=settings.HDF5_EXT,\n",
    "                                       settings=settings))\n",
    "\n",
    "    # Training ground truths\n",
    "    output_paths.append(create_hdf5_db(train_msk, \"train\", msk_path,\n",
    "                                       (settings.IMG_HEIGHT,\n",
    "                                        settings.IMG_WIDTH,\n",
    "                                        settings.IMG_CHANNELS),\n",
    "                                       key=settings.HDF5_KEY,\n",
    "                                       ext=settings.HDF5_EXT,\n",
    "                                       settings=settings,\n",
    "                                       is_mask=True))\n",
    "\n",
    "    # Validation images\n",
    "    output_paths.append(create_hdf5_db(val_img, \"val\", img_path,\n",
    "                                       (settings.IMG_HEIGHT,\n",
    "                                        settings.IMG_WIDTH,\n",
    "                                        settings.IMG_CHANNELS),\n",
    "                                       key=settings.HDF5_KEY,\n",
    "                                       ext=settings.HDF5_EXT,\n",
    "                                       settings=settings))\n",
    "\n",
    "    # Validation ground truths\n",
    "    output_paths.append(create_hdf5_db(val_msk, \"val\", msk_path,\n",
    "                                       (settings.IMG_HEIGHT,\n",
    "                                        settings.IMG_WIDTH,\n",
    "                                        settings.IMG_CHANNELS),\n",
    "                                       key=settings.HDF5_KEY,\n",
    "                                       ext=settings.HDF5_EXT,\n",
    "                                       settings=settings,\n",
    "                                       is_mask=True))\n",
    "\n",
    "    return output_paths, len(patient_fld_imgs)"
   ]
  },
  {
   "cell_type": "code",
   "execution_count": 5,
   "metadata": {
    "scrolled": false
   },
   "outputs": [
    {
     "name": "stderr",
     "output_type": "stream",
     "text": [
      "Creating HDF5 database 100% |###################################| Time: 0:00:00\n",
      "Creating HDF5 database 100% |###################################| Time: 0:00:00\n"
     ]
    },
    {
     "name": "stdout",
     "output_type": "stream",
     "text": [
      "\n",
      "--- Converted images to HDF5, full paths:\n",
      "\n",
      "../data/MSC8002/training/train_images.h5\n",
      "../data/MSC8002/training/train_groundtruths.h5\n",
      "No images found, not creating HDF5 file\n",
      "No images found, not creating HDF5 file\n",
      "\n",
      "Validation set NOT created.\n"
     ]
    }
   ],
   "source": [
    "if IS_DEVELOPMENT:\n",
    "    print(\"\\n--- Converted images to HDF5, full paths:\\n\")\n",
    "    hdf5_paths, num_patients = perform_hdf5_conversion(settings)\n",
    "    \n",
    "    if settings.TRN_TRAIN_VAL_SPLIT == 0:\n",
    "        print(\"\\nValidation set NOT created.\")\n",
    "        USE_VALIDATION_SET = False\n",
    "    else:\n",
    "        print(\"\\nCreated a {:.2f} split.\".format(settings.TRN_TRAIN_VAL_SPLIT))\n",
    "else:\n",
    "    # Use existing HDF5 data sets\n",
    "    hdf5_paths = [\"../data/MSC8002/training/train_images.h5\",\n",
    "                  \"../data/MSC8002/training/train_groundtruths.h5\",\n",
    "                  \"../data/MSC8002/training/val_images.h5\",\n",
    "                  \"../data/MSC8002/training/val_groundtruths.h5\"]\n",
    "    num_patients = None"
   ]
  },
  {
   "cell_type": "markdown",
   "metadata": {},
   "source": [
    "# Set the class distribution\n",
    "Assigning a higher weight to the positive class (i.e. blood vessels) means the model will pay \"more attention\" to that class. This is useful in the current class imbalance scenario because the number of background (i.e. non-blood vessel) pixels far exceed the number of blood vessel pixels. Without setting a different class weight for the blood vessel class the model would simply assign the background class to all pixels to achieve a low loss."
   ]
  },
  {
   "cell_type": "code",
   "execution_count": 6,
   "metadata": {
    "scrolled": false
   },
   "outputs": [
    {
     "name": "stdout",
     "output_type": "stream",
     "text": [
      "Class distribution: [1.0, 8.0]\n"
     ]
    }
   ],
   "source": [
    "class_weights = [settings.CLASS_WEIGHT_BACKGROUND, settings.CLASS_WEIGHT_BLOODVESSEL]\n",
    "print(\"Class distribution: {}\".format(class_weights))"
   ]
  },
  {
   "cell_type": "markdown",
   "metadata": {},
   "source": [
    "# Create the FCN model\n",
    "Instantiate the FCN-32s model. **Warning**: Changing the model and/or its parameters will change the name of the file the trained model will be saved to. Make sure to update the `FCN_baseline_test_ipynb` notebook accordingly to ensure it uses the correct saved model. **Note**: contrary to the paper, the model does not load weights pre-trained on, for example, ImageNet."
   ]
  },
  {
   "cell_type": "code",
   "execution_count": 7,
   "metadata": {
    "scrolled": false
   },
   "outputs": [],
   "source": [
    "fcn = FCN32_NN(img_height=settings.IMG_HEIGHT,\n",
    "               img_width=settings.IMG_WIDTH,\n",
    "               img_channels=settings.IMG_CHANNELS,\n",
    "               num_classes=settings.NUM_CLASSES,\n",
    "               dropout_rate=settings.TRN_DROPOUT_RATE)\n",
    "\n",
    "# Crop 16 pixels on all sides to get 256x256 images\n",
    "model = fcn.build_model(crop=16, use_bn=True)"
   ]
  },
  {
   "cell_type": "markdown",
   "metadata": {},
   "source": [
    "# Create paths\n",
    "This cell just creates a few paths used later to save training output (e.g. the model architecture, training results and so on)."
   ]
  },
  {
   "cell_type": "code",
   "execution_count": 8,
   "metadata": {
    "scrolled": false
   },
   "outputs": [],
   "source": [
    "model_path = os.path.join(\n",
    "    settings.MODEL_PATH, \"FCN_baseline_\" + fcn.title + \"_ep{}.model\".format(settings.TRN_NUM_EPOCH))\n",
    "summ_path = os.path.join(\n",
    "    settings.OUTPUT_PATH, \"FCN_baseline_\" + fcn.title + \"_model_summary.txt\")\n",
    "csv_path = os.path.join(\n",
    "    settings.OUTPUT_PATH,\"FCN_baseline_\" + fcn.title + \"_training_ep{}_bs{}.csv\".format(settings.TRN_NUM_EPOCH,\n",
    "                                                                                    settings.TRN_BATCH_SIZE))"
   ]
  },
  {
   "cell_type": "markdown",
   "metadata": {},
   "source": [
    "# Save/print model architecture information\n",
    "Save the model's architecture to a file, print it in the cell below and save a diagram to disk."
   ]
  },
  {
   "cell_type": "code",
   "execution_count": 9,
   "metadata": {},
   "outputs": [
    {
     "name": "stdout",
     "output_type": "stream",
     "text": [
      "_________________________________________________________________\n",
      "Layer (type)                 Output Shape              Param #   \n",
      "=================================================================\n",
      "input_1 (InputLayer)         (None, 256, 256, 1)       0         \n",
      "_________________________________________________________________\n",
      "block1_conv1 (Conv2D)        (None, 256, 256, 64)      640       \n",
      "_________________________________________________________________\n",
      "batch_normalization_1 (Batch (None, 256, 256, 64)      256       \n",
      "_________________________________________________________________\n",
      "block1_conv2 (Conv2D)        (None, 256, 256, 64)      36928     \n",
      "_________________________________________________________________\n",
      "batch_normalization_2 (Batch (None, 256, 256, 64)      256       \n",
      "_________________________________________________________________\n",
      "block1_pool (MaxPooling2D)   (None, 128, 128, 64)      0         \n",
      "_________________________________________________________________\n",
      "block2_conv1 (Conv2D)        (None, 128, 128, 128)     73856     \n",
      "_________________________________________________________________\n",
      "batch_normalization_3 (Batch (None, 128, 128, 128)     512       \n",
      "_________________________________________________________________\n",
      "block2_conv2 (Conv2D)        (None, 128, 128, 128)     147584    \n",
      "_________________________________________________________________\n",
      "batch_normalization_4 (Batch (None, 128, 128, 128)     512       \n",
      "_________________________________________________________________\n",
      "block2_pool (MaxPooling2D)   (None, 64, 64, 128)       0         \n",
      "_________________________________________________________________\n",
      "block3_conv1 (Conv2D)        (None, 64, 64, 256)       295168    \n",
      "_________________________________________________________________\n",
      "batch_normalization_5 (Batch (None, 64, 64, 256)       1024      \n",
      "_________________________________________________________________\n",
      "block3_conv2 (Conv2D)        (None, 64, 64, 256)       590080    \n",
      "_________________________________________________________________\n",
      "batch_normalization_6 (Batch (None, 64, 64, 256)       1024      \n",
      "_________________________________________________________________\n",
      "block3_conv3 (Conv2D)        (None, 64, 64, 256)       590080    \n",
      "_________________________________________________________________\n",
      "batch_normalization_7 (Batch (None, 64, 64, 256)       1024      \n",
      "_________________________________________________________________\n",
      "block3_pool (MaxPooling2D)   (None, 32, 32, 256)       0         \n",
      "_________________________________________________________________\n",
      "block4_conv1 (Conv2D)        (None, 32, 32, 512)       1180160   \n",
      "_________________________________________________________________\n",
      "batch_normalization_8 (Batch (None, 32, 32, 512)       2048      \n",
      "_________________________________________________________________\n",
      "block4_conv2 (Conv2D)        (None, 32, 32, 512)       2359808   \n",
      "_________________________________________________________________\n",
      "batch_normalization_9 (Batch (None, 32, 32, 512)       2048      \n",
      "_________________________________________________________________\n",
      "block4_conv3 (Conv2D)        (None, 32, 32, 512)       2359808   \n",
      "_________________________________________________________________\n",
      "batch_normalization_10 (Batc (None, 32, 32, 512)       2048      \n",
      "_________________________________________________________________\n",
      "block4_pool (MaxPooling2D)   (None, 16, 16, 512)       0         \n",
      "_________________________________________________________________\n",
      "block5_conv1 (Conv2D)        (None, 16, 16, 512)       2359808   \n",
      "_________________________________________________________________\n",
      "batch_normalization_11 (Batc (None, 16, 16, 512)       2048      \n",
      "_________________________________________________________________\n",
      "block5_conv2 (Conv2D)        (None, 16, 16, 512)       2359808   \n",
      "_________________________________________________________________\n",
      "batch_normalization_12 (Batc (None, 16, 16, 512)       2048      \n",
      "_________________________________________________________________\n",
      "block5_conv3 (Conv2D)        (None, 16, 16, 512)       2359808   \n",
      "_________________________________________________________________\n",
      "batch_normalization_13 (Batc (None, 16, 16, 512)       2048      \n",
      "_________________________________________________________________\n",
      "block5_pool (MaxPooling2D)   (None, 8, 8, 512)         0         \n",
      "_________________________________________________________________\n",
      "conv2d_1 (Conv2D)            (None, 8, 8, 4096)        102764544 \n",
      "_________________________________________________________________\n",
      "batch_normalization_14 (Batc (None, 8, 8, 4096)        16384     \n",
      "_________________________________________________________________\n",
      "conv2d_2 (Conv2D)            (None, 8, 8, 4096)        16781312  \n",
      "_________________________________________________________________\n",
      "batch_normalization_15 (Batc (None, 8, 8, 4096)        16384     \n",
      "_________________________________________________________________\n",
      "conv2d_3 (Conv2D)            (None, 8, 8, 2)           8194      \n",
      "_________________________________________________________________\n",
      "conv2d_transpose_1 (Conv2DTr (None, 288, 288, 2)       16384     \n",
      "_________________________________________________________________\n",
      "cropping2d_1 (Cropping2D)    (None, 256, 256, 2)       0         \n",
      "_________________________________________________________________\n",
      "activation_1 (Activation)    (None, 256, 256, 2)       0         \n",
      "=================================================================\n",
      "Total params: 134,333,634\n",
      "Trainable params: 134,308,802\n",
      "Non-trainable params: 24,832\n",
      "_________________________________________________________________\n"
     ]
    }
   ],
   "source": [
    "model.summary()\n",
    "model_summary_to_file(model, summ_path)\n",
    "model_architecture_to_file(fcn.model, settings.OUTPUT_PATH + \"FCN_baseline\" + fcn.title)"
   ]
  },
  {
   "cell_type": "markdown",
   "metadata": {},
   "source": [
    "# Compile the model\n",
    "Set the loss function, optimiser and metric and compile the model. "
   ]
  },
  {
   "cell_type": "code",
   "execution_count": 10,
   "metadata": {
    "scrolled": false
   },
   "outputs": [],
   "source": [
    "# Set the optimiser, loss function and metrics\n",
    "opt = Adam(amsgrad=True)\n",
    "metrics = [dice_coef]\n",
    "loss = weighted_pixelwise_crossentropy_loss(class_weights)\n",
    "\n",
    "# Compile\n",
    "model.compile(optimizer=opt, loss=loss, metrics=metrics)"
   ]
  },
  {
   "cell_type": "markdown",
   "metadata": {},
   "source": [
    "# Load data\n",
    "The two cells below load the training data. Depending on the value of `USE_GENERATORS` data is either loaded using a generator or loaded into memory. The latter option is useful during development. The former option is almost always required when training with a large(r) number of training images to avoid out of memory errors."
   ]
  },
  {
   "cell_type": "markdown",
   "metadata": {},
   "source": [
    "## Option 1: Use generators\n",
    "Nothing is actually loaded at this point. Only the generators are prepared for use with `fit_generator()`."
   ]
  },
  {
   "cell_type": "code",
   "execution_count": 11,
   "metadata": {},
   "outputs": [
    {
     "name": "stdout",
     "output_type": "stream",
     "text": [
      "Using data generators.\n",
      "\n",
      "  Number of training samples: 4\n",
      "             steps_per_epoch: 4.0\n"
     ]
    }
   ],
   "source": [
    "# Prepare generators, only when NOT using cross validation\n",
    "if USE_GENERATORS:\n",
    "    print(\"Using data generators.\\n\")\n",
    "    \n",
    "    # Training set generator\n",
    "    rdr_train = HDF5Generator_Segment(hdf5_paths[0], hdf5_paths[1],\n",
    "                                      batch_size=settings.TRN_BATCH_SIZE,\n",
    "                                      num_classes=settings.NUM_CLASSES,\n",
    "                                      converter=convert_img_to_pred, \n",
    "                                      feat_key=settings.HDF5_KEY)\n",
    "    gen_train = rdr_train.generator(num_epochs=settings.TRN_NUM_EPOCH)\n",
    "\n",
    "    print(\"  Number of training samples: {}\".format(rdr_train.num_images()))\n",
    "    print(\"             steps_per_epoch: {}\".format(rdr_train.num_images()/\n",
    "                                                    settings.TRN_BATCH_SIZE))\n",
    "\n",
    "\n",
    "    if USE_VALIDATION_SET:\n",
    "        # Validation set generator\n",
    "        rdr_val = HDF5Generator_Segment(hdf5_paths[2], hdf5_paths[3],\n",
    "                                        batch_size=settings.TRN_BATCH_SIZE,\n",
    "                                        num_classes=settings.NUM_CLASSES,\n",
    "                                        converter=convert_img_to_pred, \n",
    "                                        feat_key=settings.HDF5_KEY)\n",
    "        gen_val = rdr_val.generator(num_epochs=settings.TRN_NUM_EPOCH)\n",
    "\n",
    "        print(\"Number of validation samples: {}\".format(rdr_val.num_images()))\n",
    "        print(\"            validation_steps: {}\".format(rdr_val.num_images()/\n",
    "                                                        settings.TRN_BATCH_SIZE))\n",
    "else:\n",
    "    print(\"NOT using generators.\")"
   ]
  },
  {
   "cell_type": "markdown",
   "metadata": {},
   "source": [
    "## Option 2: Load all data into memory\n",
    "All data is loaded into memory."
   ]
  },
  {
   "cell_type": "code",
   "execution_count": 12,
   "metadata": {},
   "outputs": [
    {
     "name": "stdout",
     "output_type": "stream",
     "text": [
      "NOT loading all data into memory.\n"
     ]
    }
   ],
   "source": [
    "if not USE_GENERATORS:\n",
    "    print(\"Loading all data into memory.\\n\")\n",
    "\n",
    "    train_imgs = read_images(hdf5_paths[0], settings.HDF5_KEY)\n",
    "    train_grndtr = read_groundtruths(hdf5_paths[1], settings.HDF5_KEY)\n",
    "    train_grndtr_ext_conv = convert_img_to_pred(train_grndtr,\n",
    "                                                settings.NUM_CLASSES,\n",
    "                                                settings.VERBOSE)\n",
    "    print(\"  Number of training samples: {}\\n\".format(len(train_imgs)))\n",
    "\n",
    "    # Read the validation set (only when NOT using cross-validation)\n",
    "    if not USE_KFOLD_CV:\n",
    "        val_imgs = read_images(hdf5_paths[2], settings.HDF5_KEY)\n",
    "        val_grndtr = read_groundtruths(hdf5_paths[3], settings.HDF5_KEY)\n",
    "        val_grndtr_ext_conv = convert_img_to_pred(val_grndtr,\n",
    "                                                  settings.NUM_CLASSES,\n",
    "                                                  settings.VERBOSE)\n",
    "        print(\"Number of validation samples: {}\\n\".format(len(val_imgs)))\n",
    "    else:\n",
    "        print(\"Using cross validation, not loading a validation set.\")\n",
    "else:\n",
    "    print(\"NOT loading all data into memory.\")"
   ]
  },
  {
   "cell_type": "markdown",
   "metadata": {},
   "source": [
    "# Prepare callbacks\n",
    "Prepare callbacks used during training:\n",
    "\n",
    "- TensorBoard: basic TensorBoard visualizations\n",
    "- EarlyStopping: Stop training when a monitored quantity has stopped improving\n",
    "- CSVLogger: streams epoch results to a csv file\n",
    "- ModelCheckpoint: save the model after every epoch."
   ]
  },
  {
   "cell_type": "code",
   "execution_count": 13,
   "metadata": {},
   "outputs": [],
   "source": [
    "tb_callb = TensorBoard(log_dir=settings.OUTPUT_PATH + fcn.title,\n",
    "                       write_graph=True,\n",
    "                       batch_size=settings.TRN_BATCH_SIZE)\n",
    "cvs_callb = CSVLogger(csv_path, append=False)\n",
    "\n",
    "if USE_VALIDATION_SET:\n",
    "    mc_callb = ModelCheckpoint(model_path,\n",
    "                               monitor=\"val_loss\",\n",
    "                               mode=\"min\",\n",
    "                               save_best_only=True,\n",
    "                               verbose=1)\n",
    "    es_callb = EarlyStopping(monitor='val_loss',\n",
    "                             min_delta=0,\n",
    "                             patience=settings.TRN_EARLY_PATIENCE,\n",
    "                             verbose=0,\n",
    "                             mode=\"auto\")\n",
    "else:\n",
    "    mc_callb = ModelCheckpoint(model_path,\n",
    "                               monitor=\"loss\",\n",
    "                               mode=\"min\", \n",
    "                               save_best_only=True,\n",
    "                               verbose=1)\n",
    "    es_callb = EarlyStopping(monitor='loss',\n",
    "                             min_delta=0,\n",
    "                             patience=settings.TRN_EARLY_PATIENCE,\n",
    "                             verbose=0,\n",
    "                             mode=\"auto\")\n",
    "\n",
    "callbacks = [mc_callb, es_callb, cvs_callb, tb_callb]"
   ]
  },
  {
   "cell_type": "markdown",
   "metadata": {},
   "source": [
    "# Train the model\n",
    "Execute the training process, either using generators or using data loaded into memory."
   ]
  },
  {
   "cell_type": "markdown",
   "metadata": {},
   "source": [
    "## Option 1: Train using generators"
   ]
  },
  {
   "cell_type": "code",
   "execution_count": null,
   "metadata": {
    "scrolled": false
   },
   "outputs": [
    {
     "name": "stdout",
     "output_type": "stream",
     "text": [
      "Training without a validation set, using generators.\n",
      "\n",
      "Generic information:\n",
      "              Model: FCN-32s_BN\n",
      "          Saving to: ../savedmodels/FCN_baseline_FCN-32s_BN_ep100.model\n",
      " Number of patients: 1\n",
      "     Training shape: (4, 256, 256, 1) (4 per patient)\n",
      "   Validation shape: None (0 per patient)\n",
      "      Class weights: [1.0, 8.0]\n",
      "\n",
      "Hyper parameters:\n",
      "          Optimizer: <class 'keras.optimizers.Adam'>\n",
      "                   : 0 = ('lr', 0.0010000000474974513)\n",
      "                   : 1 = ('beta_1', 0.8999999761581421)\n",
      "                   : 2 = ('beta_2', 0.9990000128746033)\n",
      "                   : 3 = ('decay', 0.0)\n",
      "                   : 4 = ('epsilon', 1e-07)\n",
      "                   : 5 = ('amsgrad', True)\n",
      "               Loss: <function weighted_pixelwise_crossentropy_loss\n",
      "         IMG_HEIGHT: 256\n",
      "          IMG_WIDTH: 256\n",
      "       IMG_CHANNELS: 1\n",
      "        NUM_CLASSES: 2\n",
      "        SLICE_START: 57\n",
      "          SLICE_END: 61\n",
      "    IMG_CROP_HEIGHT: 32\n",
      "     IMG_CROP_WIDTH: 32\n",
      "\n",
      "     TRN_BATCH_SIZE: 1\n",
      "  TRN_LEARNING_RATE: 0.001\n",
      "      TRN_NUM_EPOCH: 100\n",
      "TRN_TRAIN_VAL_SPLIT: 0.0\n",
      "   TRN_DROPOUT_RATE: 0.5\n",
      "       TRN_MOMENTUM: 0.99\n",
      " TRN_PRED_THRESHOLD: 0.5\n",
      " TRN_EARLY_PATIENCE: 10\n",
      "\n",
      "Epoch 1/100\n",
      " - 13s - loss: 50529.2588 - dice_coef: 0.4989\n",
      "\n",
      "Epoch 00001: loss improved from inf to 50529.25879, saving model to ../savedmodels/FCN_baseline_FCN-32s_BN_ep100.model\n",
      "Epoch 2/100\n",
      " - 12s - loss: 46806.7090 - dice_coef: 0.5023\n",
      "\n",
      "Epoch 00002: loss improved from 50529.25879 to 46806.70898, saving model to ../savedmodels/FCN_baseline_FCN-32s_BN_ep100.model\n",
      "Epoch 3/100\n",
      " - 12s - loss: 46239.0195 - dice_coef: 0.5068\n",
      "\n",
      "Epoch 00003: loss improved from 46806.70898 to 46239.01953, saving model to ../savedmodels/FCN_baseline_FCN-32s_BN_ep100.model\n",
      "Epoch 4/100\n",
      " - 12s - loss: 45065.2334 - dice_coef: 0.5184\n",
      "\n",
      "Epoch 00004: loss improved from 46239.01953 to 45065.23340, saving model to ../savedmodels/FCN_baseline_FCN-32s_BN_ep100.model\n",
      "Epoch 5/100\n",
      " - 12s - loss: 42541.3760 - dice_coef: 0.5476\n",
      "\n",
      "Epoch 00005: loss improved from 45065.23340 to 42541.37598, saving model to ../savedmodels/FCN_baseline_FCN-32s_BN_ep100.model\n",
      "Epoch 6/100\n",
      " - 14s - loss: 38218.1797 - dice_coef: 0.5958\n",
      "\n",
      "Epoch 00006: loss improved from 42541.37598 to 38218.17969, saving model to ../savedmodels/FCN_baseline_FCN-32s_BN_ep100.model\n",
      "Epoch 7/100\n",
      " - 15s - loss: 31149.2651 - dice_coef: 0.6649\n",
      "\n",
      "Epoch 00007: loss improved from 38218.17969 to 31149.26514, saving model to ../savedmodels/FCN_baseline_FCN-32s_BN_ep100.model\n",
      "Epoch 8/100\n",
      " - 15s - loss: 22370.8994 - dice_coef: 0.7515\n",
      "\n",
      "Epoch 00008: loss improved from 31149.26514 to 22370.89941, saving model to ../savedmodels/FCN_baseline_FCN-32s_BN_ep100.model\n",
      "Epoch 9/100\n",
      " - 16s - loss: 15053.9619 - dice_coef: 0.8382\n",
      "\n",
      "Epoch 00009: loss improved from 22370.89941 to 15053.96191, saving model to ../savedmodels/FCN_baseline_FCN-32s_BN_ep100.model\n",
      "Epoch 10/100\n",
      " - 19s - loss: 10138.2874 - dice_coef: 0.9018\n",
      "\n",
      "Epoch 00010: loss improved from 15053.96191 to 10138.28735, saving model to ../savedmodels/FCN_baseline_FCN-32s_BN_ep100.model\n",
      "Epoch 11/100\n",
      " - 20s - loss: 7873.6649 - dice_coef: 0.9363\n",
      "\n",
      "Epoch 00011: loss improved from 10138.28735 to 7873.66492, saving model to ../savedmodels/FCN_baseline_FCN-32s_BN_ep100.model\n",
      "Epoch 12/100\n",
      " - 19s - loss: 6611.4404 - dice_coef: 0.9600\n",
      "\n",
      "Epoch 00012: loss improved from 7873.66492 to 6611.44043, saving model to ../savedmodels/FCN_baseline_FCN-32s_BN_ep100.model\n",
      "Epoch 13/100\n",
      " - 18s - loss: 5363.7789 - dice_coef: 0.9598\n",
      "\n",
      "Epoch 00013: loss improved from 6611.44043 to 5363.77893, saving model to ../savedmodels/FCN_baseline_FCN-32s_BN_ep100.model\n",
      "Epoch 14/100\n",
      " - 18s - loss: 4666.4681 - dice_coef: 0.9699\n",
      "\n",
      "Epoch 00014: loss improved from 5363.77893 to 4666.46814, saving model to ../savedmodels/FCN_baseline_FCN-32s_BN_ep100.model\n",
      "Epoch 15/100\n",
      " - 18s - loss: 4010.6944 - dice_coef: 0.9728\n",
      "\n",
      "Epoch 00015: loss improved from 4666.46814 to 4010.69440, saving model to ../savedmodels/FCN_baseline_FCN-32s_BN_ep100.model\n",
      "Epoch 16/100\n",
      " - 17s - loss: 3632.5775 - dice_coef: 0.9757\n",
      "\n",
      "Epoch 00016: loss improved from 4010.69440 to 3632.57751, saving model to ../savedmodels/FCN_baseline_FCN-32s_BN_ep100.model\n",
      "Epoch 17/100\n",
      " - 17s - loss: 3270.7637 - dice_coef: 0.9771\n",
      "\n",
      "Epoch 00017: loss improved from 3632.57751 to 3270.76373, saving model to ../savedmodels/FCN_baseline_FCN-32s_BN_ep100.model\n",
      "Epoch 18/100\n",
      " - 17s - loss: 3077.2003 - dice_coef: 0.9796\n",
      "\n",
      "Epoch 00018: loss improved from 3270.76373 to 3077.20026, saving model to ../savedmodels/FCN_baseline_FCN-32s_BN_ep100.model\n",
      "Epoch 19/100\n",
      " - 17s - loss: 2786.2800 - dice_coef: 0.9807\n",
      "\n",
      "Epoch 00019: loss improved from 3077.20026 to 2786.27997, saving model to ../savedmodels/FCN_baseline_FCN-32s_BN_ep100.model\n",
      "Epoch 20/100\n",
      " - 16s - loss: 2599.8577 - dice_coef: 0.9821\n",
      "\n",
      "Epoch 00020: loss improved from 2786.27997 to 2599.85767, saving model to ../savedmodels/FCN_baseline_FCN-32s_BN_ep100.model\n"
     ]
    }
   ],
   "source": [
    "if USE_GENERATORS:\n",
    "    start_time = time.time()\n",
    "\n",
    "    if USE_VALIDATION_SET:\n",
    "        # Prepare callbacks\n",
    "        print(\"Training with a validation set, using generators.\")\n",
    "        print_training_info(fcn, model_path, rdr_train.img_shape, rdr_val.img_shape,\n",
    "                            settings, class_weights, num_patients, opt, loss)\n",
    "\n",
    "        # Fit the model using generators and a validation set\n",
    "        hist = model.fit_generator(gen_train,\n",
    "                                   epochs=settings.TRN_NUM_EPOCH,\n",
    "                                   steps_per_epoch=rdr_train.num_images()/settings.TRN_BATCH_SIZE,\n",
    "                                   verbose=2,\n",
    "                                   validation_data=gen_val,\n",
    "                                   validation_steps=rdr_val.num_images()/settings.TRN_BATCH_SIZE,\n",
    "                                   shuffle=True,\n",
    "                                   callbacks=callbacks)\n",
    "    else:\n",
    "        print(\"Training without a validation set, using generators.\")\n",
    "        print_training_info(fcn, model_path, rdr_train.img_shape,\n",
    "                        None, settings, class_weights, num_patients, opt, loss)\n",
    "\n",
    "        # Fit the model using a training set only\n",
    "        start_time = time.time()\n",
    "        hist = model.fit_generator(gen_train,\n",
    "                                   epochs=settings.TRN_NUM_EPOCH,\n",
    "                                   steps_per_epoch=rdr_train.num_images()/settings.TRN_BATCH_SIZE,\n",
    "                                   verbose=2,\n",
    "                                   shuffle=True,\n",
    "                                   callbacks=callbacks)\n",
    "\n",
    "    print(\"\\n\\nElapsed training time: {:.2f} min.\".format(int((time.time() - start_time))/60))"
   ]
  },
  {
   "cell_type": "markdown",
   "metadata": {},
   "source": [
    "## Option 2: Train using all data loaded in memory"
   ]
  },
  {
   "cell_type": "code",
   "execution_count": null,
   "metadata": {},
   "outputs": [],
   "source": [
    "if not USE_GENERATORS:\n",
    "    start_time = time.time()\n",
    "\n",
    "    if USE_VALIDATION_SET:\n",
    "        # Prepare callbacks\n",
    "        callbacks = [ModelCheckpoint(model_path,\n",
    "                                     monitor=\"val_loss\",\n",
    "                                     mode=\"min\",\n",
    "                                     save_best_only=True,\n",
    "                                     verbose=1),\n",
    "            EarlyStopping(monitor='val_loss',\n",
    "                          min_delta=0,\n",
    "                          patience=settings.TRN_EARLY_PATIENCE,\n",
    "                          verbose=0,\n",
    "                          mode=\"auto\"),\n",
    "            CSVLogger(csv_path,\n",
    "                      append=False)]\n",
    "\n",
    "        print(\"Training with a validation set, using all data in memory.\")\n",
    "        print_training_info(fcn, model_path, train_imgs.shape, val_imgs.shape,\n",
    "                            settings, class_weights, num_patients, opt, loss)\n",
    "\n",
    "        # Fit the model using a training set only\n",
    "        hist = model.fit(train_imgs, train_grndtr_ext_conv,\n",
    "                         epochs=settings.TRN_NUM_EPOCH,\n",
    "                         batch_size=settings.TRN_BATCH_SIZE,\n",
    "                         verbose=2,\n",
    "                         shuffle=True,\n",
    "                         validation_data=(val_imgs, val_grndtr_ext_conv),\n",
    "                         callbacks=callbacks)\n",
    "\n",
    "    else:\n",
    "        # Prepare callbacks\n",
    "        callbacks = [ModelCheckpoint(model_path,\n",
    "                                     monitor=\"loss\",\n",
    "                                     mode=\"min\",\n",
    "                                     save_best_only=True,\n",
    "                                     verbose=1),\n",
    "                     EarlyStopping(monitor='loss',\n",
    "                                   min_delta=0,\n",
    "                                   patience=settings.TRN_EARLY_PATIENCE,\n",
    "                                   verbose=0,\n",
    "                                   mode=\"auto\"),\n",
    "                     CSVLogger(csv_path,\n",
    "                               append=False)]\n",
    "\n",
    "        print(\"Training without a validation set, using all data in memory.\")\n",
    "        print_training_info(fcn, model_path, train_imgs.shape, None,\n",
    "                            settings, class_weights, num_patients, opt, loss)\n",
    "\n",
    "        # Fit the model using a training set only\n",
    "        start_time = time.time()\n",
    "        hist = model.fit(train_imgs, train_grndtr_ext_conv,\n",
    "                         epochs=settings.TRN_NUM_EPOCH,\n",
    "                         batch_size=settings.TRN_BATCH_SIZE,\n",
    "                         verbose=2,\n",
    "                         shuffle=True,\n",
    "                         callbacks=callbacks)\n",
    "\n",
    "    print(\"\\n\\nElapsed training time: {:.2f} min.\".format(int((time.time() - start_time))/60))"
   ]
  },
  {
   "cell_type": "markdown",
   "metadata": {},
   "source": [
    "# Plot/save the training results\n",
    "Show a plot of the training loss and Dice coefficient by epoch and save it to disk."
   ]
  },
  {
   "cell_type": "code",
   "execution_count": null,
   "metadata": {
    "scrolled": false
   },
   "outputs": [],
   "source": [
    "plot_training_history(hist,\n",
    "                      show=True,\n",
    "                      save_path=settings.OUTPUT_PATH + fcn.title,\n",
    "                      time_stamp=True,\n",
    "                      metric=\"dice_coef\")"
   ]
  },
  {
   "cell_type": "markdown",
   "metadata": {},
   "source": [
    "# Perform pipeline test\n",
    "Use the trained model on one sample in the training data set. This is just to perform pipeline testing during development."
   ]
  },
  {
   "cell_type": "code",
   "execution_count": null,
   "metadata": {
    "scrolled": false
   },
   "outputs": [],
   "source": [
    "# Read training images and ground truths\n",
    "train_imgs = read_images(hdf5_paths[0], settings.HDF5_KEY)\n",
    "train_grndtr = read_groundtruths(hdf5_paths[1], settings.HDF5_KEY)\n",
    "\n",
    "# Predict\n",
    "predictions = model.predict(train_imgs, batch_size=settings.TRN_BATCH_SIZE, verbose=2)\n",
    "print(\"Predictions shape: {}\".format(predictions.shape))\n",
    "\n",
    "# Convert predictions to images\n",
    "predictions_imgs = convert_pred_to_img(predictions,\n",
    "                                       threshold=settings.TRN_PRED_THRESHOLD,\n",
    "                                       verbose=settings.VERBOSE)\n",
    "\n",
    "# Show a single image, ground truth and segmentation map\n",
    "show_image(np.squeeze(predictions_imgs[0]), 'Segmentation map')\n",
    "show_image(np.squeeze(train_grndtr[0]), 'Ground truth')\n",
    "show_image(np.squeeze(train_imgs[0]), 'Original image')\n",
    "\n",
    "print(\"segmentation map {} dtype {}\".format(np.max(predictions_imgs[0]),\n",
    "                                            predictions_imgs[0].dtype))\n",
    "print(\"    ground truth {} dtype {}\".format(np.max(train_grndtr[0]),\n",
    "                                            train_grndtr[0].dtype))\n",
    "print(\"        original {} dtype {}\".format(np.max(train_imgs[0]),\n",
    "                                            train_imgs[0].dtype))"
   ]
  },
  {
   "cell_type": "markdown",
   "metadata": {
    "scrolled": false
   },
   "source": [
    "# Training complete\n",
    "The trained model is now ready to be applied to test MRI images using `FCN_baseline_test.ipynb`."
   ]
  },
  {
   "cell_type": "markdown",
   "metadata": {},
   "source": [
    "# References"
   ]
  },
  {
   "cell_type": "markdown",
   "metadata": {},
   "source": [
    "*[Long]*: Jonathan Long, Evan Shelhamer, and Trevor Darrell. Fully Convolutional Networks for Semantic Segmentation. In *Corr*, abs/1411.4038, 2014."
   ]
  }
 ],
 "metadata": {
  "kernelspec": {
   "display_name": "Python 3",
   "language": "python",
   "name": "python3"
  },
  "language_info": {
   "codemirror_mode": {
    "name": "ipython",
    "version": 3
   },
   "file_extension": ".py",
   "mimetype": "text/x-python",
   "name": "python",
   "nbconvert_exporter": "python",
   "pygments_lexer": "ipython3",
   "version": "3.6.5"
  }
 },
 "nbformat": 4,
 "nbformat_minor": 2
}
