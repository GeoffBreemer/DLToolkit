{
 "cells": [
  {
   "cell_type": "markdown",
   "metadata": {},
   "source": [
    "# Train DECiSION incl. data augmentation"
   ]
  },
  {
   "cell_type": "markdown",
   "metadata": {},
   "source": [
    "## Set seeds and import packages"
   ]
  },
  {
   "cell_type": "code",
   "execution_count": 1,
   "metadata": {},
   "outputs": [
    {
     "name": "stderr",
     "output_type": "stream",
     "text": [
      "/Users/geoff/anaconda3/envs/ML3-DL-OPENCV/lib/python3.6/site-packages/h5py/__init__.py:36: FutureWarning: Conversion of the second argument of issubdtype from `float` to `np.floating` is deprecated. In future, it will be treated as `np.float64 == np.dtype(float).type`.\n",
      "  from ._conv import register_converters as _register_converters\n",
      "Using TensorFlow backend.\n"
     ]
    }
   ],
   "source": [
    "RANDOM_STATE = 42\n",
    "from numpy.random import seed\n",
    "seed(RANDOM_STATE)\n",
    "\n",
    "from tensorflow import set_random_seed\n",
    "set_random_seed(RANDOM_STATE)\n",
    "\n",
    "import random\n",
    "random.seed = RANDOM_STATE\n",
    "\n",
    "import DECiSION_settings as settings\n",
    "\n",
    "from dltoolkit.utils.generic import model_architecture_to_file, model_summary_to_file, list_images\n",
    "from dltoolkit.nn.segment import UNet_NN\n",
    "from dltoolkit.utils.visual import plot_training_history\n",
    "from dltoolkit.iomisc import HDF5Generator_Segment\n",
    "\n",
    "from thesis_common import convert_img_to_pred, convert_pred_to_img, create_hdf5_db,\\\n",
    "    show_image, read_preprocess_image, read_preprocess_groundtruth\n",
    "from thesis_metric_loss import dice_coef, weighted_pixelwise_crossentropy_loss\n",
    "\n",
    "from keras.callbacks import ModelCheckpoint, EarlyStopping, CSVLogger\n",
    "from keras.optimizers import Adam\n",
    "from keras.preprocessing.image import ImageDataGenerator\n",
    "\n",
    "from sklearn.model_selection import train_test_split\n",
    "\n",
    "import numpy as np\n",
    "import os, cv2, time, progressbar\n",
    "\n",
    "import matplotlib.pyplot as plt\n",
    "%matplotlib inline"
   ]
  },
  {
   "cell_type": "markdown",
   "metadata": {},
   "source": [
    "## Convert training set to HDF5"
   ]
  },
  {
   "cell_type": "code",
   "execution_count": 4,
   "metadata": {},
   "outputs": [],
   "source": [
    "def perform_hdf5_conversion(settings):\n",
    "    # Prepare the path to the training images and ground truths\n",
    "    img_exts = \".jpg\"\n",
    "    img_path = os.path.join(settings.TRAINING_PATH, settings.FLDR_IMAGES)\n",
    "    msk_path = os.path.join(settings.TRAINING_PATH, settings.FLDR_GROUND_TRUTH)\n",
    "\n",
    "    # Create a list of paths to the individual patient folders\n",
    "    patient_fld_imgs = sorted([os.path.join(img_path, e.name) for e in os.scandir(img_path) if e.is_dir()])\n",
    "    patient_fld_masks = sorted([os.path.join(msk_path, e.name) for e in os.scandir(msk_path) if e.is_dir()])\n",
    "\n",
    "    # Obtain a list of paths to the training images and ground truths for each patient\n",
    "    img_list = []\n",
    "    msk_list = []\n",
    "    for patient_ix, (p_fld_imgs, p_fld_masks) in enumerate(zip(patient_fld_imgs, patient_fld_masks)):\n",
    "        img_list.extend(sorted(list(list_images(basePath=p_fld_imgs,\n",
    "                                                validExts=img_exts)))\n",
    "                        [settings.SLICE_START:settings.SLICE_END])\n",
    "        msk_list.extend(sorted(list(list_images(basePath=p_fld_masks,\n",
    "                                                validExts=img_exts)))\n",
    "                        [settings.SLICE_START:settings.SLICE_END])\n",
    "\n",
    "    assert(len(img_list) == len(msk_list))\n",
    "\n",
    "    # Split the training set into a training and validation set\n",
    "    train_img, val_img, train_msk, val_msk = train_test_split(img_list, msk_list,\n",
    "                                                              test_size=settings.TRN_TRAIN_VAL_SPLIT,\n",
    "                                                              random_state=settings.RANDOM_STATE,\n",
    "                                                              shuffle=True)\n",
    "    \n",
    "    # Create the HDF5 data sets\n",
    "    output_paths = []\n",
    "\n",
    "    # Training images\n",
    "    output_paths.append(create_hdf5_db(train_img, \"train\", img_path,\n",
    "                                       (settings.IMG_HEIGHT, settings.IMG_WIDTH, settings.IMG_CHANNELS),\n",
    "                                       key=settings.HDF5_KEY, ext=settings.HDF5_EXT, settings=settings))\n",
    "\n",
    "    # Training ground truths\n",
    "    output_paths.append(create_hdf5_db(train_msk, \"train\", msk_path,\n",
    "                                       (settings.IMG_HEIGHT, settings.IMG_WIDTH, settings.IMG_CHANNELS),\n",
    "                                       key=settings.HDF5_KEY, ext=settings.HDF5_EXT, settings=settings,\n",
    "                                       is_mask=True))\n",
    "\n",
    "    # Validation images\n",
    "    output_paths.append(create_hdf5_db(val_img, \"val\", img_path,\n",
    "                                       (settings.IMG_HEIGHT, settings.IMG_WIDTH, settings.IMG_CHANNELS),\n",
    "                                       key=settings.HDF5_KEY, ext=settings.HDF5_EXT, settings=settings))\n",
    "\n",
    "    # Validation ground truths\n",
    "    output_paths.append(create_hdf5_db(val_msk, \"val\", msk_path,\n",
    "                                       (settings.IMG_HEIGHT, settings.IMG_WIDTH, settings.IMG_CHANNELS),\n",
    "                                       key=settings.HDF5_KEY, ext=settings.HDF5_EXT, settings=settings,\n",
    "                                       is_mask=True))\n",
    "\n",
    "    return output_paths"
   ]
  },
  {
   "cell_type": "code",
   "execution_count": 5,
   "metadata": {},
   "outputs": [
    {
     "name": "stderr",
     "output_type": "stream",
     "text": [
      "Creating HDF5 database 100% |###################################| Time: 0:00:00\n",
      "Creating HDF5 database 100% |###################################| Time: 0:00:00\n",
      "Creating HDF5 database 100% |###################################| Time: 0:00:00\n",
      "Creating HDF5 database 100% |###################################| Time: 0:00:00\n"
     ]
    },
    {
     "name": "stdout",
     "output_type": "stream",
     "text": [
      "\n",
      "--- Converting images to HDF5\n",
      "../data/MSC8002/training/train_imgs.h5\n",
      "../data/MSC8002/training/train_masks.h5\n",
      "../data/MSC8002/training/val_imgs.h5\n",
      "../data/MSC8002/training/val_masks.h5\n"
     ]
    }
   ],
   "source": [
    "# Convert image files to HDF5\n",
    "if settings.IS_DEVELOPMENT:\n",
    "    print(\"\\n--- Converting images to HDF5\")\n",
    "    hdf5_paths = perform_hdf5_conversion(settings)\n",
    "else:\n",
    "    # During development avoid performing HDF5 conversion for every run\n",
    "    hdf5_paths = [\"../data/MSC8002/training/train_imgs.h5\",\n",
    "                  \"../data/MSC8002/training/train_masks.h5\",\n",
    "                  \"../data/MSC8002/training/val_imgs.h5\",\n",
    "                  \"../data/MSC8002/training/val_masks.h5\"\n",
    "                  ]"
   ]
  },
  {
   "cell_type": "markdown",
   "metadata": {},
   "source": [
    "## Class distribution"
   ]
  },
  {
   "cell_type": "code",
   "execution_count": 6,
   "metadata": {},
   "outputs": [
    {
     "name": "stdout",
     "output_type": "stream",
     "text": [
      "Class distribution: [1.0, 10.0]\n"
     ]
    }
   ],
   "source": [
    "# Print class distribution\n",
    "class_weights = [settings.CLASS_WEIGHT_BACKGROUND, settings.CLASS_WEIGHT_BLOODVESSEL]\n",
    "print(\"Class distribution: {}\".format(class_weights))"
   ]
  },
  {
   "cell_type": "markdown",
   "metadata": {},
   "source": [
    "## Create U-Net model"
   ]
  },
  {
   "cell_type": "code",
   "execution_count": 7,
   "metadata": {},
   "outputs": [],
   "source": [
    "# Instantiate the U-Net model\n",
    "unet = UNet_NN(img_height=settings.IMG_HEIGHT,\n",
    "               img_width=settings.IMG_WIDTH,\n",
    "               img_channels=settings.IMG_CHANNELS,\n",
    "               num_classes=settings.NUM_CLASSES)\n",
    "\n",
    "# model = unet.build_model_sigmoid()\n",
    "# model = unet.build_model_flatten()\n",
    "model = unet.build_model_softmax()"
   ]
  },
  {
   "cell_type": "markdown",
   "metadata": {},
   "source": [
    "## Create paths"
   ]
  },
  {
   "cell_type": "code",
   "execution_count": 8,
   "metadata": {},
   "outputs": [],
   "source": [
    "# Prepare some path strings\n",
    "model_path = os.path.join(settings.MODEL_PATH, \"DECiSION_\" + unet.title + \"_ep{}.model\".format(settings.TRN_NUM_EPOCH))\n",
    "summ_path = os.path.join(settings.OUTPUT_PATH, \"DECiSION_\" + unet.title + \"_model_summary.txt\")\n",
    "csv_path = os.path.join(settings.OUTPUT_PATH, \"DECiSION_\" + unet.title + \"_training_ep{}_bs{}.csv\".format(settings.TRN_NUM_EPOCH,\n",
    "                                                                                            settings.TRN_BATCH_SIZE))"
   ]
  },
  {
   "cell_type": "markdown",
   "metadata": {},
   "source": [
    "## Save/print model architecture information"
   ]
  },
  {
   "cell_type": "code",
   "execution_count": 9,
   "metadata": {},
   "outputs": [
    {
     "name": "stdout",
     "output_type": "stream",
     "text": [
      "__________________________________________________________________________________________________\n",
      "Layer (type)                    Output Shape         Param #     Connected to                     \n",
      "==================================================================================================\n",
      "input_1 (InputLayer)            (None, 240, 240, 1)  0                                            \n",
      "__________________________________________________________________________________________________\n",
      "conv2d_1 (Conv2D)               (None, 240, 240, 32) 320         input_1[0][0]                    \n",
      "__________________________________________________________________________________________________\n",
      "conv2d_2 (Conv2D)               (None, 240, 240, 32) 9248        conv2d_1[0][0]                   \n",
      "__________________________________________________________________________________________________\n",
      "max_pooling2d_1 (MaxPooling2D)  (None, 120, 120, 32) 0           conv2d_2[0][0]                   \n",
      "__________________________________________________________________________________________________\n",
      "conv2d_3 (Conv2D)               (None, 120, 120, 64) 18496       max_pooling2d_1[0][0]            \n",
      "__________________________________________________________________________________________________\n",
      "conv2d_4 (Conv2D)               (None, 120, 120, 64) 36928       conv2d_3[0][0]                   \n",
      "__________________________________________________________________________________________________\n",
      "max_pooling2d_2 (MaxPooling2D)  (None, 60, 60, 64)   0           conv2d_4[0][0]                   \n",
      "__________________________________________________________________________________________________\n",
      "conv2d_5 (Conv2D)               (None, 60, 60, 128)  73856       max_pooling2d_2[0][0]            \n",
      "__________________________________________________________________________________________________\n",
      "conv2d_6 (Conv2D)               (None, 60, 60, 128)  147584      conv2d_5[0][0]                   \n",
      "__________________________________________________________________________________________________\n",
      "conv2d_transpose_1 (Conv2DTrans (None, 120, 120, 64) 32832       conv2d_6[0][0]                   \n",
      "__________________________________________________________________________________________________\n",
      "concatenate_1 (Concatenate)     (None, 120, 120, 128 0           conv2d_transpose_1[0][0]         \n",
      "                                                                 conv2d_4[0][0]                   \n",
      "__________________________________________________________________________________________________\n",
      "conv2d_7 (Conv2D)               (None, 120, 120, 64) 73792       concatenate_1[0][0]              \n",
      "__________________________________________________________________________________________________\n",
      "conv2d_8 (Conv2D)               (None, 120, 120, 64) 36928       conv2d_7[0][0]                   \n",
      "__________________________________________________________________________________________________\n",
      "conv2d_transpose_2 (Conv2DTrans (None, 240, 240, 32) 8224        conv2d_8[0][0]                   \n",
      "__________________________________________________________________________________________________\n",
      "concatenate_2 (Concatenate)     (None, 240, 240, 64) 0           conv2d_transpose_2[0][0]         \n",
      "                                                                 conv2d_2[0][0]                   \n",
      "__________________________________________________________________________________________________\n",
      "conv2d_9 (Conv2D)               (None, 240, 240, 32) 18464       concatenate_2[0][0]              \n",
      "__________________________________________________________________________________________________\n",
      "conv2d_10 (Conv2D)              (None, 240, 240, 32) 9248        conv2d_9[0][0]                   \n",
      "__________________________________________________________________________________________________\n",
      "conv2d_11 (Conv2D)              (None, 240, 240, 2)  66          conv2d_10[0][0]                  \n",
      "__________________________________________________________________________________________________\n",
      "activation_1 (Activation)       (None, 240, 240, 2)  0           conv2d_11[0][0]                  \n",
      "==================================================================================================\n",
      "Total params: 465,986\n",
      "Trainable params: 465,986\n",
      "Non-trainable params: 0\n",
      "__________________________________________________________________________________________________\n"
     ]
    }
   ],
   "source": [
    "# Print the architecture to the console, a text file and an image\n",
    "model.summary()\n",
    "model_summary_to_file(model, summ_path)\n",
    "model_architecture_to_file(unet.model, settings.OUTPUT_PATH + \"DECiSION_\" + unet.title)"
   ]
  },
  {
   "cell_type": "markdown",
   "metadata": {},
   "source": [
    "## Compile the model"
   ]
  },
  {
   "cell_type": "code",
   "execution_count": 10,
   "metadata": {},
   "outputs": [],
   "source": [
    "# Set the optimiser, loss function and metrics\n",
    "opt = Adam()\n",
    "metrics = [dice_coef]\n",
    "loss = weighted_pixelwise_crossentropy_loss(class_weights)\n",
    "\n",
    "# Compile\n",
    "model.compile(optimizer=opt, loss=loss, metrics=metrics)"
   ]
  },
  {
   "cell_type": "markdown",
   "metadata": {},
   "source": [
    "## Prepare data generators"
   ]
  },
  {
   "cell_type": "code",
   "execution_count": 11,
   "metadata": {},
   "outputs": [
    {
     "name": "stdout",
     "output_type": "stream",
     "text": [
      " num trn samples: 9\n",
      " num val samples: 1\n",
      " steps_per_epoch: 9.0\n",
      "validation_steps: 1.0\n"
     ]
    }
   ],
   "source": [
    "# Training set generator using data augmentation\n",
    "rdr_train = HDF5Generator_Segment(hdf5_paths[0], hdf5_paths[1],\n",
    "                                  batch_size=settings.TRN_BATCH_SIZE,\n",
    "                                  num_classes=settings.NUM_CLASSES,\n",
    "                                  converter=convert_img_to_pred, \n",
    "#                                   data_gen_args=data_gen_args,\n",
    "                                  feat_key=settings.HDF5_KEY)\n",
    "gen_train = rdr_train.generator(num_epochs=settings.TRN_NUM_EPOCH)\n",
    "\n",
    "# Validation set generator (does NOT use data augmentation)\n",
    "rdr_val = HDF5Generator_Segment(hdf5_paths[2], hdf5_paths[3],\n",
    "                                batch_size=settings.TRN_BATCH_SIZE,\n",
    "                                num_classes=settings.NUM_CLASSES,\n",
    "                                converter=convert_img_to_pred, \n",
    "                                feat_key=settings.HDF5_KEY)\n",
    "gen_val = rdr_val.generator(num_epochs=settings.TRN_NUM_EPOCH)\n",
    "\n",
    "print(\" num trn samples: {}\".format(rdr_train.num_images()))\n",
    "print(\" num val samples: {}\".format(rdr_val.num_images()))\n",
    "\n",
    "print(\" steps_per_epoch: {}\".format(rdr_train.num_images()/settings.TRN_BATCH_SIZE))\n",
    "print(\"validation_steps: {}\".format(rdr_val.num_images()/settings.TRN_BATCH_SIZE))"
   ]
  },
  {
   "cell_type": "markdown",
   "metadata": {},
   "source": [
    "## Train WITH a validation set"
   ]
  },
  {
   "cell_type": "code",
   "execution_count": null,
   "metadata": {},
   "outputs": [],
   "source": [
    "# Prepare callbacks\n",
    "callbacks = [ModelCheckpoint(model_path, monitor=\"val_loss\", mode=\"min\", save_best_only=True, verbose=1),\n",
    "             EarlyStopping(monitor='val_loss',\n",
    "                           min_delta=0,\n",
    "                           patience=settings.TRN_EARLY_PATIENCE,\n",
    "                           verbose=0,\n",
    "                           mode=\"auto\"),\n",
    "             CSVLogger(csv_path, append=False),\n",
    "             ]\n",
    "\n",
    "# Fit the model using generators and a validation set\n",
    "start_time = time.time()\n",
    "hist = model.fit_generator(gen_train,\n",
    "                 epochs=settings.TRN_NUM_EPOCH,\n",
    "                 steps_per_epoch=rdr_train.num_images()/settings.TRN_BATCH_SIZE,\n",
    "                 verbose=2,\n",
    "                 validation_data=gen_val,\n",
    "                 validation_steps=rdr_val.num_images()/settings.TRN_BATCH_SIZE,\n",
    "                 shuffle=True,\n",
    "                 callbacks=callbacks)\n",
    "\n",
    "print(\"\\n\\nElapsed training time: {} min\".format(int((time.time() - start_time))/60))"
   ]
  },
  {
   "cell_type": "markdown",
   "metadata": {},
   "source": [
    "## Train WITHOUT a validation set"
   ]
  },
  {
   "cell_type": "code",
   "execution_count": 12,
   "metadata": {},
   "outputs": [
    {
     "name": "stdout",
     "output_type": "stream",
     "text": [
      "Epoch 1/100\n",
      " - 7s - loss: 33124.5911 - dice_coef: 0.6531\n",
      "\n",
      "Epoch 00001: loss improved from inf to 33124.59115, saving model to ../savedmodels/DECiSION_UNet_brain_softmax_ep100.model\n",
      "Epoch 2/100\n",
      " - 6s - loss: 16213.6274 - dice_coef: 0.9027\n",
      "\n",
      "Epoch 00002: loss improved from 33124.59115 to 16213.62739, saving model to ../savedmodels/DECiSION_UNet_brain_softmax_ep100.model\n",
      "Epoch 3/100\n",
      " - 6s - loss: 14165.9663 - dice_coef: 0.9196\n",
      "\n",
      "Epoch 00003: loss improved from 16213.62739 to 14165.96625, saving model to ../savedmodels/DECiSION_UNet_brain_softmax_ep100.model\n",
      "Epoch 4/100\n",
      " - 6s - loss: 12655.4146 - dice_coef: 0.9346\n",
      "\n",
      "Epoch 00004: loss improved from 14165.96625 to 12655.41461, saving model to ../savedmodels/DECiSION_UNet_brain_softmax_ep100.model\n",
      "Epoch 5/100\n",
      " - 6s - loss: 11161.5687 - dice_coef: 0.9416\n",
      "\n",
      "Epoch 00005: loss improved from 12655.41461 to 11161.56868, saving model to ../savedmodels/DECiSION_UNet_brain_softmax_ep100.model\n",
      "Epoch 6/100\n",
      " - 6s - loss: 9560.2442 - dice_coef: 0.9499\n",
      "\n",
      "Epoch 00006: loss improved from 11161.56868 to 9560.24425, saving model to ../savedmodels/DECiSION_UNet_brain_softmax_ep100.model\n",
      "Epoch 7/100\n",
      " - 6s - loss: 7872.9849 - dice_coef: 0.9594\n",
      "\n",
      "Epoch 00007: loss improved from 9560.24425 to 7872.98492, saving model to ../savedmodels/DECiSION_UNet_brain_softmax_ep100.model\n",
      "Epoch 8/100\n",
      " - 6s - loss: 6482.7757 - dice_coef: 0.9665\n",
      "\n",
      "Epoch 00008: loss improved from 7872.98492 to 6482.77572, saving model to ../savedmodels/DECiSION_UNet_brain_softmax_ep100.model\n",
      "Epoch 9/100\n",
      " - 6s - loss: 5314.0761 - dice_coef: 0.9746\n",
      "\n",
      "Epoch 00009: loss improved from 6482.77572 to 5314.07606, saving model to ../savedmodels/DECiSION_UNet_brain_softmax_ep100.model\n",
      "Epoch 10/100\n",
      " - 6s - loss: 4583.9528 - dice_coef: 0.9807\n",
      "\n",
      "Epoch 00010: loss improved from 5314.07606 to 4583.95277, saving model to ../savedmodels/DECiSION_UNet_brain_softmax_ep100.model\n",
      "Epoch 11/100\n",
      " - 7s - loss: 4132.9985 - dice_coef: 0.9822\n",
      "\n",
      "Epoch 00011: loss improved from 4583.95277 to 4132.99845, saving model to ../savedmodels/DECiSION_UNet_brain_softmax_ep100.model\n",
      "Epoch 12/100\n",
      " - 7s - loss: 3919.8113 - dice_coef: 0.9836\n",
      "\n",
      "Epoch 00012: loss improved from 4132.99845 to 3919.81133, saving model to ../savedmodels/DECiSION_UNet_brain_softmax_ep100.model\n",
      "Epoch 13/100\n",
      " - 8s - loss: 3636.0534 - dice_coef: 0.9866\n",
      "\n",
      "Epoch 00013: loss improved from 3919.81133 to 3636.05339, saving model to ../savedmodels/DECiSION_UNet_brain_softmax_ep100.model\n",
      "Epoch 14/100\n",
      " - 8s - loss: 3547.3099 - dice_coef: 0.9855\n",
      "\n",
      "Epoch 00014: loss improved from 3636.05339 to 3547.30992, saving model to ../savedmodels/DECiSION_UNet_brain_softmax_ep100.model\n",
      "Epoch 15/100\n",
      " - 9s - loss: 3059.5053 - dice_coef: 0.9875\n",
      "\n",
      "Epoch 00015: loss improved from 3547.30992 to 3059.50526, saving model to ../savedmodels/DECiSION_UNet_brain_softmax_ep100.model\n",
      "Epoch 16/100\n",
      " - 9s - loss: 2319.6147 - dice_coef: 0.9875\n",
      "\n",
      "Epoch 00016: loss improved from 3059.50526 to 2319.61475, saving model to ../savedmodels/DECiSION_UNet_brain_softmax_ep100.model\n",
      "Epoch 17/100\n",
      " - 10s - loss: 1768.7268 - dice_coef: 0.9895\n",
      "\n",
      "Epoch 00017: loss improved from 2319.61475 to 1768.72678, saving model to ../savedmodels/DECiSION_UNet_brain_softmax_ep100.model\n",
      "Epoch 18/100\n",
      " - 15s - loss: 2041.8638 - dice_coef: 0.9890\n",
      "\n",
      "Epoch 00018: loss did not improve\n",
      "Epoch 19/100\n",
      " - 17s - loss: 1585.8128 - dice_coef: 0.9904\n",
      "\n",
      "Epoch 00019: loss improved from 1768.72678 to 1585.81277, saving model to ../savedmodels/DECiSION_UNet_brain_softmax_ep100.model\n",
      "Epoch 20/100\n",
      " - 17s - loss: 1710.2374 - dice_coef: 0.9897\n",
      "\n",
      "Epoch 00020: loss did not improve\n",
      "Epoch 21/100\n",
      " - 16s - loss: 1763.3125 - dice_coef: 0.9907\n",
      "\n",
      "Epoch 00021: loss did not improve\n",
      "Epoch 22/100\n",
      " - 14s - loss: 1496.3969 - dice_coef: 0.9909\n",
      "\n",
      "Epoch 00022: loss improved from 1585.81277 to 1496.39692, saving model to ../savedmodels/DECiSION_UNet_brain_softmax_ep100.model\n",
      "Epoch 23/100\n",
      " - 15s - loss: 1355.6206 - dice_coef: 0.9924\n",
      "\n",
      "Epoch 00023: loss improved from 1496.39692 to 1355.62055, saving model to ../savedmodels/DECiSION_UNet_brain_softmax_ep100.model\n",
      "Epoch 24/100\n",
      " - 12s - loss: 1227.8089 - dice_coef: 0.9931\n",
      "\n",
      "Epoch 00024: loss improved from 1355.62055 to 1227.80891, saving model to ../savedmodels/DECiSION_UNet_brain_softmax_ep100.model\n",
      "Epoch 25/100\n",
      " - 10s - loss: 1136.1043 - dice_coef: 0.9935\n",
      "\n",
      "Epoch 00025: loss improved from 1227.80891 to 1136.10432, saving model to ../savedmodels/DECiSION_UNet_brain_softmax_ep100.model\n",
      "Epoch 26/100\n",
      " - 11s - loss: 1079.6289 - dice_coef: 0.9937\n",
      "\n",
      "Epoch 00026: loss improved from 1136.10432 to 1079.62891, saving model to ../savedmodels/DECiSION_UNet_brain_softmax_ep100.model\n",
      "Epoch 27/100\n",
      " - 22s - loss: 1256.0424 - dice_coef: 0.9927\n",
      "\n",
      "Epoch 00027: loss did not improve\n",
      "Epoch 28/100\n",
      " - 17s - loss: 1248.1366 - dice_coef: 0.9932\n",
      "\n",
      "Epoch 00028: loss did not improve\n",
      "Epoch 29/100\n",
      " - 11s - loss: 1304.0249 - dice_coef: 0.9933\n",
      "\n",
      "Epoch 00029: loss did not improve\n",
      "Epoch 30/100\n",
      " - 9s - loss: 1513.6131 - dice_coef: 0.9911\n",
      "\n",
      "Epoch 00030: loss did not improve\n",
      "Epoch 31/100\n",
      " - 10s - loss: 1236.8768 - dice_coef: 0.9932\n",
      "\n",
      "Epoch 00031: loss did not improve\n",
      "Epoch 32/100\n",
      " - 9s - loss: 1051.6014 - dice_coef: 0.9939\n",
      "\n",
      "Epoch 00032: loss improved from 1079.62891 to 1051.60141, saving model to ../savedmodels/DECiSION_UNet_brain_softmax_ep100.model\n",
      "Epoch 33/100\n",
      " - 10s - loss: 930.5654 - dice_coef: 0.9947\n",
      "\n",
      "Epoch 00033: loss improved from 1051.60141 to 930.56536, saving model to ../savedmodels/DECiSION_UNet_brain_softmax_ep100.model\n",
      "Epoch 34/100\n",
      " - 10s - loss: 922.3744 - dice_coef: 0.9948\n",
      "\n",
      "Epoch 00034: loss improved from 930.56536 to 922.37441, saving model to ../savedmodels/DECiSION_UNet_brain_softmax_ep100.model\n",
      "Epoch 35/100\n",
      " - 9s - loss: 947.6640 - dice_coef: 0.9949\n",
      "\n",
      "Epoch 00035: loss did not improve\n",
      "Epoch 36/100\n",
      " - 9s - loss: 926.3504 - dice_coef: 0.9949\n",
      "\n",
      "Epoch 00036: loss did not improve\n",
      "Epoch 37/100\n",
      " - 9s - loss: 838.2058 - dice_coef: 0.9953\n",
      "\n",
      "Epoch 00037: loss improved from 922.37441 to 838.20578, saving model to ../savedmodels/DECiSION_UNet_brain_softmax_ep100.model\n",
      "Epoch 38/100\n",
      " - 9s - loss: 774.6582 - dice_coef: 0.9954\n",
      "\n",
      "Epoch 00038: loss improved from 838.20578 to 774.65818, saving model to ../savedmodels/DECiSION_UNet_brain_softmax_ep100.model\n",
      "Epoch 39/100\n",
      " - 10s - loss: 680.5755 - dice_coef: 0.9963\n",
      "\n",
      "Epoch 00039: loss improved from 774.65818 to 680.57546, saving model to ../savedmodels/DECiSION_UNet_brain_softmax_ep100.model\n",
      "Epoch 40/100\n",
      " - 9s - loss: 633.5527 - dice_coef: 0.9964\n",
      "\n",
      "Epoch 00040: loss improved from 680.57546 to 633.55267, saving model to ../savedmodels/DECiSION_UNet_brain_softmax_ep100.model\n",
      "Epoch 41/100\n",
      " - 9s - loss: 692.3619 - dice_coef: 0.9964\n",
      "\n",
      "Epoch 00041: loss did not improve\n",
      "Epoch 42/100\n",
      " - 10s - loss: 872.4606 - dice_coef: 0.9950\n",
      "\n",
      "Epoch 00042: loss did not improve\n",
      "Epoch 43/100\n",
      " - 10s - loss: 941.3480 - dice_coef: 0.9950\n",
      "\n",
      "Epoch 00043: loss did not improve\n",
      "Epoch 44/100\n",
      " - 9s - loss: 718.1148 - dice_coef: 0.9960\n",
      "\n",
      "Epoch 00044: loss did not improve\n",
      "Epoch 45/100\n",
      " - 10s - loss: 607.3519 - dice_coef: 0.9964\n",
      "\n",
      "Epoch 00045: loss improved from 633.55267 to 607.35193, saving model to ../savedmodels/DECiSION_UNet_brain_softmax_ep100.model\n",
      "Epoch 46/100\n",
      " - 10s - loss: 530.9578 - dice_coef: 0.9971\n",
      "\n",
      "Epoch 00046: loss improved from 607.35193 to 530.95775, saving model to ../savedmodels/DECiSION_UNet_brain_softmax_ep100.model\n",
      "Epoch 47/100\n",
      " - 9s - loss: 468.3565 - dice_coef: 0.9973\n",
      "\n",
      "Epoch 00047: loss improved from 530.95775 to 468.35646, saving model to ../savedmodels/DECiSION_UNet_brain_softmax_ep100.model\n",
      "Epoch 48/100\n",
      " - 9s - loss: 450.5315 - dice_coef: 0.9974\n",
      "\n",
      "Epoch 00048: loss improved from 468.35646 to 450.53150, saving model to ../savedmodels/DECiSION_UNet_brain_softmax_ep100.model\n",
      "Epoch 49/100\n",
      " - 9s - loss: 433.2029 - dice_coef: 0.9977\n",
      "\n",
      "Epoch 00049: loss improved from 450.53150 to 433.20292, saving model to ../savedmodels/DECiSION_UNet_brain_softmax_ep100.model\n",
      "Epoch 50/100\n",
      " - 9s - loss: 686.0665 - dice_coef: 0.9971\n",
      "\n",
      "Epoch 00050: loss did not improve\n",
      "Epoch 51/100\n",
      " - 10s - loss: 1971.9969 - dice_coef: 0.9896\n",
      "\n",
      "Epoch 00051: loss did not improve\n",
      "Epoch 52/100\n",
      " - 10s - loss: 1414.6661 - dice_coef: 0.9932\n",
      "\n",
      "Epoch 00052: loss did not improve\n",
      "Epoch 53/100\n",
      " - 9s - loss: 1108.6978 - dice_coef: 0.9938\n",
      "\n",
      "Epoch 00053: loss did not improve\n",
      "Epoch 54/100\n"
     ]
    },
    {
     "name": "stdout",
     "output_type": "stream",
     "text": [
      " - 9s - loss: 859.1328 - dice_coef: 0.9951\n",
      "\n",
      "Epoch 00054: loss did not improve\n",
      "Epoch 55/100\n",
      " - 9s - loss: 728.0298 - dice_coef: 0.9959\n",
      "\n",
      "Epoch 00055: loss did not improve\n",
      "\n",
      "\n",
      "Elapsed training time: 9.083333333333334 min\n"
     ]
    }
   ],
   "source": [
    "# Prepare callbacks\n",
    "callbacks = [\n",
    "    ModelCheckpoint(model_path, monitor=\"loss\", mode=\"min\", save_best_only=True, verbose=1),\n",
    "    EarlyStopping(monitor='loss', min_delta=0, patience=settings.TRN_EARLY_PATIENCE, verbose=0, mode=\"auto\"),\n",
    "    CSVLogger(csv_path, append=False),\n",
    "    ]\n",
    "\n",
    "\n",
    "# Fit the model using a training set only\n",
    "start_time = time.time()\n",
    "hist = model.fit_generator(gen_train,\n",
    "                 epochs=settings.TRN_NUM_EPOCH,\n",
    "                 steps_per_epoch=rdr_train.num_images()/settings.TRN_BATCH_SIZE,\n",
    "                 verbose=2,\n",
    "                 shuffle=True,\n",
    "                 callbacks=callbacks)\n",
    "\n",
    "print(\"\\n\\nElapsed training time: {} min\".format(int((time.time() - start_time))/60))"
   ]
  },
  {
   "cell_type": "markdown",
   "metadata": {},
   "source": [
    "## Plot the results"
   ]
  },
  {
   "cell_type": "code",
   "execution_count": null,
   "metadata": {},
   "outputs": [],
   "source": [
    "plot_training_history(hist,\n",
    "                      settings.TRN_NUM_EPOCH,\n",
    "                      show=False,\n",
    "                      save_path=settings.OUTPUT_PATH + unet.title,\n",
    "                      time_stamp=True,\n",
    "                      metric=\"dice_coef\")"
   ]
  },
  {
   "cell_type": "markdown",
   "metadata": {},
   "source": [
    "## Perform pipeline test"
   ]
  },
  {
   "cell_type": "code",
   "execution_count": null,
   "metadata": {},
   "outputs": [],
   "source": [
    "# Read images and ground truths\n",
    "train_imgs = read_preprocess_image(hdf5_paths[0], settings.HDF5_KEY)\n",
    "train_grndtr = read_preprocess_groundtruth(hdf5_paths[1], settings.HDF5_KEY)\n",
    "\n",
    "# For pipeline testing only, predict on one training image\n",
    "predictions = model.predict(train_imgs[[0]], batch_size=settings.TRN_BATCH_SIZE, verbose=2)\n",
    "\n",
    "# predictions = predictions\n",
    "# predictions = convert_pred_to_img_flatten(predictions, settings.TRN_PRED_THRESHOLD)\n",
    "predictions = convert_pred_to_img(predictions, settings, settings.TRN_PRED_THRESHOLD)\n",
    "\n",
    "\n",
    "show_image(np.squeeze(train_imgs[0]), 'PRED TRAIN org image')\n",
    "show_image(np.squeeze(train_grndtr[0]), 'PRED TRAIN org ground truth')\n",
    "show_image(np.squeeze(predictions[0]), 'PRED TRAIN predicted mask')\n",
    "\n",
    "print(\"  original {} dtype {}\".format(np.max(train_imgs[0]), train_imgs[0].dtype))\n",
    "print(\"  gr truth {} dtype {}\".format(np.max(train_grndtr[0]), train_grndtr[0].dtype))\n",
    "print(\"prediction {} dtype {}\".format(np.max(predictions[0]), predictions[0].dtype))"
   ]
  },
  {
   "cell_type": "code",
   "execution_count": null,
   "metadata": {},
   "outputs": [],
   "source": []
  }
 ],
 "metadata": {
  "kernelspec": {
   "display_name": "Python 3",
   "language": "python",
   "name": "python3"
  },
  "language_info": {
   "codemirror_mode": {
    "name": "ipython",
    "version": 3
   },
   "file_extension": ".py",
   "mimetype": "text/x-python",
   "name": "python",
   "nbconvert_exporter": "python",
   "pygments_lexer": "ipython3",
   "version": "3.6.4"
  }
 },
 "nbformat": 4,
 "nbformat_minor": 2
}
