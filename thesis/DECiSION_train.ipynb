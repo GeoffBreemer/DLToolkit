{
 "cells": [
  {
   "cell_type": "markdown",
   "metadata": {},
   "source": [
    "# Train DECiSION incl. data augmentation"
   ]
  },
  {
   "cell_type": "markdown",
   "metadata": {},
   "source": [
    "## Set seeds and import packages"
   ]
  },
  {
   "cell_type": "code",
   "execution_count": 1,
   "metadata": {},
   "outputs": [
    {
     "name": "stderr",
     "output_type": "stream",
     "text": [
      "/Users/geoff/anaconda3/envs/ML3-DL-OPENCV/lib/python3.6/site-packages/h5py/__init__.py:36: FutureWarning: Conversion of the second argument of issubdtype from `float` to `np.floating` is deprecated. In future, it will be treated as `np.float64 == np.dtype(float).type`.\n",
      "  from ._conv import register_converters as _register_converters\n",
      "Using TensorFlow backend.\n"
     ]
    }
   ],
   "source": [
    "RANDOM_STATE = 42\n",
    "from numpy.random import seed\n",
    "seed(RANDOM_STATE)\n",
    "\n",
    "from tensorflow import set_random_seed\n",
    "set_random_seed(RANDOM_STATE)\n",
    "\n",
    "import random\n",
    "random.seed = RANDOM_STATE\n",
    "\n",
    "import DECiSION_settings as settings\n",
    "\n",
    "from dltoolkit.utils.generic import model_architecture_to_file, model_summary_to_file, list_images\n",
    "from dltoolkit.nn.segment import UNet_NN\n",
    "from dltoolkit.utils.visual import plot_training_history, plot_roc_curve, plot_precision_recall_curve,\\\n",
    "    print_confusion_matrix, print_classification_report\n",
    "from dltoolkit.iomisc import HDF5Generator_Segment\n",
    "\n",
    "from thesis_common import convert_img_to_pred, convert_pred_to_img, create_hdf5_db,\\\n",
    "    show_image, read_preprocess_image, read_preprocess_groundtruth, print_training_info\n",
    "from thesis_metric_loss import dice_coef, weighted_pixelwise_crossentropy_loss\n",
    "\n",
    "from keras.callbacks import ModelCheckpoint, EarlyStopping, CSVLogger\n",
    "from keras.optimizers import Adam\n",
    "from keras.preprocessing.image import ImageDataGenerator\n",
    "\n",
    "from sklearn.model_selection import train_test_split\n",
    "\n",
    "import numpy as np\n",
    "import os, cv2, time, progressbar\n",
    "\n",
    "import matplotlib.pyplot as plt\n",
    "%matplotlib inline"
   ]
  },
  {
   "cell_type": "markdown",
   "metadata": {},
   "source": [
    "## Convert training set to HDF5"
   ]
  },
  {
   "cell_type": "code",
   "execution_count": 2,
   "metadata": {},
   "outputs": [],
   "source": [
    "def perform_hdf5_conversion(settings):\n",
    "    # Prepare the path to the training images and ground truths\n",
    "    img_exts = \".jpg\"\n",
    "    img_path = os.path.join(settings.TRAINING_PATH, settings.FLDR_IMAGES)\n",
    "    msk_path = os.path.join(settings.TRAINING_PATH, settings.FLDR_GROUND_TRUTH)\n",
    "\n",
    "    # Create a list of paths to the individual patient folders\n",
    "    patient_fld_imgs = sorted([os.path.join(img_path, e.name) for e in os.scandir(img_path) if e.is_dir()])\n",
    "    patient_fld_masks = sorted([os.path.join(msk_path, e.name) for e in os.scandir(msk_path) if e.is_dir()])\n",
    "\n",
    "    # Obtain a list of paths to the training images and ground truths for each patient\n",
    "    img_list = []\n",
    "    msk_list = []\n",
    "    for patient_ix, (p_fld_imgs, p_fld_masks) in enumerate(zip(patient_fld_imgs, patient_fld_masks)):\n",
    "        img_list.extend(sorted(list(list_images(basePath=p_fld_imgs,\n",
    "                                                validExts=img_exts)))\n",
    "                        [settings.SLICE_START:settings.SLICE_END])\n",
    "        msk_list.extend(sorted(list(list_images(basePath=p_fld_masks,\n",
    "                                                validExts=img_exts)))\n",
    "                        [settings.SLICE_START:settings.SLICE_END])\n",
    "\n",
    "    assert(len(img_list) == len(msk_list))\n",
    "\n",
    "    # Split the training set into a training and validation set\n",
    "    train_img, val_img, train_msk, val_msk = train_test_split(img_list, msk_list,\n",
    "                                                              test_size=settings.TRN_TRAIN_VAL_SPLIT,\n",
    "                                                              random_state=settings.RANDOM_STATE,\n",
    "                                                              shuffle=True)\n",
    "    \n",
    "    # Create the HDF5 data sets\n",
    "    output_paths = []\n",
    "\n",
    "    # Training images\n",
    "    output_paths.append(create_hdf5_db(train_img, \"train\", img_path,\n",
    "                                       (settings.IMG_HEIGHT, settings.IMG_WIDTH, settings.IMG_CHANNELS),\n",
    "                                       key=settings.HDF5_KEY, ext=settings.HDF5_EXT, settings=settings))\n",
    "\n",
    "    # Training ground truths\n",
    "    output_paths.append(create_hdf5_db(train_msk, \"train\", msk_path,\n",
    "                                       (settings.IMG_HEIGHT, settings.IMG_WIDTH, settings.IMG_CHANNELS),\n",
    "                                       key=settings.HDF5_KEY, ext=settings.HDF5_EXT, settings=settings,\n",
    "                                       is_mask=True))\n",
    "\n",
    "    # Validation images\n",
    "    output_paths.append(create_hdf5_db(val_img, \"val\", img_path,\n",
    "                                       (settings.IMG_HEIGHT, settings.IMG_WIDTH, settings.IMG_CHANNELS),\n",
    "                                       key=settings.HDF5_KEY, ext=settings.HDF5_EXT, settings=settings))\n",
    "\n",
    "    # Validation ground truths\n",
    "    output_paths.append(create_hdf5_db(val_msk, \"val\", msk_path,\n",
    "                                       (settings.IMG_HEIGHT, settings.IMG_WIDTH, settings.IMG_CHANNELS),\n",
    "                                       key=settings.HDF5_KEY, ext=settings.HDF5_EXT, settings=settings,\n",
    "                                       is_mask=True))\n",
    "\n",
    "    return output_paths"
   ]
  },
  {
   "cell_type": "markdown",
   "metadata": {},
   "source": [
    "## Enable/disable cross-validation"
   ]
  },
  {
   "cell_type": "code",
   "execution_count": 3,
   "metadata": {},
   "outputs": [],
   "source": [
    "USE_KFOLD_CV = False"
   ]
  },
  {
   "cell_type": "code",
   "execution_count": 4,
   "metadata": {},
   "outputs": [
    {
     "name": "stderr",
     "output_type": "stream",
     "text": [
      "Creating HDF5 database  27% |#########                          | ETA:  0:00:00"
     ]
    },
    {
     "name": "stdout",
     "output_type": "stream",
     "text": [
      "\n",
      "--- Converting images to HDF5\n",
      "../data/MSC8002/training/train_imgs.h5\n"
     ]
    },
    {
     "name": "stderr",
     "output_type": "stream",
     "text": [
      "Creating HDF5 database 100% |###################################| Time: 0:00:00\n",
      "Creating HDF5 database 100% |###################################| Time: 0:00:00\n",
      "Creating HDF5 database N/A% |                                  | ETA:  --:--:--"
     ]
    },
    {
     "name": "stdout",
     "output_type": "stream",
     "text": [
      "../data/MSC8002/training/train_masks.h5\n",
      "../data/MSC8002/training/val_imgs.h5\n"
     ]
    },
    {
     "name": "stderr",
     "output_type": "stream",
     "text": [
      "Creating HDF5 database 100% |###################################| Time: 0:00:00\n",
      "Creating HDF5 database 100% |###################################| Time: 0:00:00\n"
     ]
    },
    {
     "name": "stdout",
     "output_type": "stream",
     "text": [
      "../data/MSC8002/training/val_masks.h5\n",
      "Creating a 0.1 training/validation set\n"
     ]
    }
   ],
   "source": [
    "# Convert image files to HDF5\n",
    "if settings.IS_DEVELOPMENT:\n",
    "    print(\"\\n--- Converting images to HDF5\")\n",
    "    hdf5_paths = perform_hdf5_conversion(settings)\n",
    "    \n",
    "    if settings.TRN_TRAIN_VAL_SPLIT == 0:\n",
    "        print(\"Not creating a validation set\")\n",
    "    else:\n",
    "        print(\"Creating a {} training/validation set\".format(settings.TRN_TRAIN_VAL_SPLIT))\n",
    "else:\n",
    "    # During development avoid performing HDF5 conversion for every run\n",
    "    hdf5_paths = [\"../data/MSC8002/training/train_imgs.h5\",\n",
    "                  \"../data/MSC8002/training/train_masks.h5\",\n",
    "                  \"../data/MSC8002/training/val_imgs.h5\",\n",
    "                  \"../data/MSC8002/training/val_masks.h5\"\n",
    "                  ]"
   ]
  },
  {
   "cell_type": "markdown",
   "metadata": {},
   "source": [
    "## Class distribution"
   ]
  },
  {
   "cell_type": "code",
   "execution_count": 5,
   "metadata": {},
   "outputs": [
    {
     "name": "stdout",
     "output_type": "stream",
     "text": [
      "Class distribution: [1.0, 10.0]\n"
     ]
    }
   ],
   "source": [
    "# Print class distribution\n",
    "class_weights = [settings.CLASS_WEIGHT_BACKGROUND, settings.CLASS_WEIGHT_BLOODVESSEL]\n",
    "print(\"Class distribution: {}\".format(class_weights))"
   ]
  },
  {
   "cell_type": "markdown",
   "metadata": {},
   "source": [
    "## Create the U-Net model"
   ]
  },
  {
   "cell_type": "code",
   "execution_count": 6,
   "metadata": {},
   "outputs": [],
   "source": [
    "unet = UNet_NN(img_height=settings.IMG_HEIGHT,\n",
    "               img_width=settings.IMG_WIDTH,\n",
    "               img_channels=settings.IMG_CHANNELS,\n",
    "               num_classes=settings.NUM_CLASSES)\n",
    "model = unet.build_model_BRAIN()"
   ]
  },
  {
   "cell_type": "markdown",
   "metadata": {},
   "source": [
    "## Create paths"
   ]
  },
  {
   "cell_type": "code",
   "execution_count": 7,
   "metadata": {},
   "outputs": [],
   "source": [
    "# Prepare some path strings\n",
    "model_path = os.path.join(settings.MODEL_PATH, \"DECiSION_\" + unet.title + \"_ep{}.model\".format(settings.TRN_NUM_EPOCH))\n",
    "summ_path = os.path.join(settings.OUTPUT_PATH, \"DECiSION_\" + unet.title + \"_model_summary.txt\")\n",
    "csv_path = os.path.join(settings.OUTPUT_PATH, \"DECiSION_\" + unet.title + \"_training_ep{}_bs{}.csv\".format(settings.TRN_NUM_EPOCH,\n",
    "                                                                                            settings.TRN_BATCH_SIZE))"
   ]
  },
  {
   "cell_type": "markdown",
   "metadata": {},
   "source": [
    "## Save/print model architecture information"
   ]
  },
  {
   "cell_type": "code",
   "execution_count": 8,
   "metadata": {},
   "outputs": [
    {
     "name": "stdout",
     "output_type": "stream",
     "text": [
      "__________________________________________________________________________________________________\n",
      "Layer (type)                    Output Shape         Param #     Connected to                     \n",
      "==================================================================================================\n",
      "input_1 (InputLayer)            (None, 240, 240, 1)  0                                            \n",
      "__________________________________________________________________________________________________\n",
      "conv2d_1 (Conv2D)               (None, 240, 240, 32) 320         input_1[0][0]                    \n",
      "__________________________________________________________________________________________________\n",
      "conv2d_2 (Conv2D)               (None, 240, 240, 32) 9248        conv2d_1[0][0]                   \n",
      "__________________________________________________________________________________________________\n",
      "max_pooling2d_1 (MaxPooling2D)  (None, 120, 120, 32) 0           conv2d_2[0][0]                   \n",
      "__________________________________________________________________________________________________\n",
      "conv2d_3 (Conv2D)               (None, 120, 120, 64) 18496       max_pooling2d_1[0][0]            \n",
      "__________________________________________________________________________________________________\n",
      "conv2d_4 (Conv2D)               (None, 120, 120, 64) 36928       conv2d_3[0][0]                   \n",
      "__________________________________________________________________________________________________\n",
      "max_pooling2d_2 (MaxPooling2D)  (None, 60, 60, 64)   0           conv2d_4[0][0]                   \n",
      "__________________________________________________________________________________________________\n",
      "conv2d_5 (Conv2D)               (None, 60, 60, 128)  73856       max_pooling2d_2[0][0]            \n",
      "__________________________________________________________________________________________________\n",
      "conv2d_6 (Conv2D)               (None, 60, 60, 128)  147584      conv2d_5[0][0]                   \n",
      "__________________________________________________________________________________________________\n",
      "conv2d_transpose_1 (Conv2DTrans (None, 120, 120, 64) 32832       conv2d_6[0][0]                   \n",
      "__________________________________________________________________________________________________\n",
      "concatenate_1 (Concatenate)     (None, 120, 120, 128 0           conv2d_transpose_1[0][0]         \n",
      "                                                                 conv2d_4[0][0]                   \n",
      "__________________________________________________________________________________________________\n",
      "conv2d_7 (Conv2D)               (None, 120, 120, 64) 73792       concatenate_1[0][0]              \n",
      "__________________________________________________________________________________________________\n",
      "conv2d_8 (Conv2D)               (None, 120, 120, 64) 36928       conv2d_7[0][0]                   \n",
      "__________________________________________________________________________________________________\n",
      "conv2d_transpose_2 (Conv2DTrans (None, 240, 240, 32) 8224        conv2d_8[0][0]                   \n",
      "__________________________________________________________________________________________________\n",
      "concatenate_2 (Concatenate)     (None, 240, 240, 64) 0           conv2d_transpose_2[0][0]         \n",
      "                                                                 conv2d_2[0][0]                   \n",
      "__________________________________________________________________________________________________\n",
      "conv2d_9 (Conv2D)               (None, 240, 240, 32) 18464       concatenate_2[0][0]              \n",
      "__________________________________________________________________________________________________\n",
      "conv2d_10 (Conv2D)              (None, 240, 240, 32) 9248        conv2d_9[0][0]                   \n",
      "__________________________________________________________________________________________________\n",
      "conv2d_11 (Conv2D)              (None, 240, 240, 2)  66          conv2d_10[0][0]                  \n",
      "__________________________________________________________________________________________________\n",
      "activation_1 (Activation)       (None, 240, 240, 2)  0           conv2d_11[0][0]                  \n",
      "==================================================================================================\n",
      "Total params: 465,986\n",
      "Trainable params: 465,986\n",
      "Non-trainable params: 0\n",
      "__________________________________________________________________________________________________\n"
     ]
    }
   ],
   "source": [
    "model.summary()\n",
    "model_summary_to_file(model, summ_path)\n",
    "model_architecture_to_file(unet.model, settings.OUTPUT_PATH + \"DECiSION_\" + unet.title)"
   ]
  },
  {
   "cell_type": "markdown",
   "metadata": {},
   "source": [
    "## Compile the model"
   ]
  },
  {
   "cell_type": "code",
   "execution_count": 9,
   "metadata": {},
   "outputs": [],
   "source": [
    "# Set the optimiser, loss function and metrics\n",
    "opt = Adam()\n",
    "metrics = [dice_coef]\n",
    "loss = weighted_pixelwise_crossentropy_loss(class_weights)\n",
    "\n",
    "# Compile\n",
    "model.compile(optimizer=opt, loss=loss, metrics=metrics)"
   ]
  },
  {
   "cell_type": "markdown",
   "metadata": {},
   "source": [
    "## Load data"
   ]
  },
  {
   "cell_type": "markdown",
   "metadata": {},
   "source": [
    "### Option 1: Use generators"
   ]
  },
  {
   "cell_type": "raw",
   "metadata": {},
   "source": [
    "# Prepare generators, only when NOT using cross validation\n",
    "if USE_KFOLD_CV is False:\n",
    "    # Training set generator using data augmentation\n",
    "    rdr_train = HDF5Generator_Segment(hdf5_paths[0], hdf5_paths[1],\n",
    "                                      batch_size=settings.TRN_BATCH_SIZE,\n",
    "                                      num_classes=settings.NUM_CLASSES,\n",
    "                                      converter=convert_img_to_pred, \n",
    "    #                                   data_gen_args=data_gen_args,\n",
    "                                      feat_key=settings.HDF5_KEY)\n",
    "    gen_train = rdr_train.generator(num_epochs=settings.TRN_NUM_EPOCH)\n",
    "\n",
    "    # Validation set generator (does NOT use data augmentation)\n",
    "    rdr_val = HDF5Generator_Segment(hdf5_paths[2], hdf5_paths[3],\n",
    "                                    batch_size=settings.TRN_BATCH_SIZE,\n",
    "                                    num_classes=settings.NUM_CLASSES,\n",
    "                                    converter=convert_img_to_pred, \n",
    "                                    feat_key=settings.HDF5_KEY)\n",
    "    gen_val = rdr_val.generator(num_epochs=settings.TRN_NUM_EPOCH)\n",
    "\n",
    "    print(\" num trn samples: {}\".format(rdr_train.num_images()))\n",
    "    print(\" num val samples: {}\".format(rdr_val.num_images()))\n",
    "\n",
    "    print(\" steps_per_epoch: {}\".format(rdr_train.num_images()/settings.TRN_BATCH_SIZE))\n",
    "    print(\"validation_steps: {}\".format(rdr_val.num_images()/settings.TRN_BATCH_SIZE))\n",
    "else:\n",
    "    print(\"Using cross validation, not creating generators\")"
   ]
  },
  {
   "cell_type": "markdown",
   "metadata": {},
   "source": [
    "### Option 2: Load all data into memory"
   ]
  },
  {
   "cell_type": "code",
   "execution_count": 10,
   "metadata": {},
   "outputs": [
    {
     "name": "stdout",
     "output_type": "stream",
     "text": [
      "Loading image HDF5: ../data/MSC8002/training/train_imgs.h5 with dtype = float32\n",
      "\n",
      "Loading ground truth HDF5: ../data/MSC8002/training/train_masks.h5 with dtype = uint8\n",
      "\n",
      "Elapsed time: 0.1968979835510254\n",
      "Number of samples: 85\n",
      "Loading image HDF5: ../data/MSC8002/training/val_imgs.h5 with dtype = float32\n",
      "\n",
      "Loading ground truth HDF5: ../data/MSC8002/training/val_masks.h5 with dtype = uint8\n",
      "\n",
      "Elapsed time: 0.018415212631225586\n"
     ]
    }
   ],
   "source": [
    "train_imgs = read_preprocess_image(hdf5_paths[0], settings.HDF5_KEY)\n",
    "train_grndtr = read_preprocess_groundtruth(hdf5_paths[1], settings.HDF5_KEY)\n",
    "train_grndtr_ext_conv = convert_img_to_pred(train_grndtr, settings.NUM_CLASSES, settings.VERBOSE)  # softmax: 4D\n",
    "\n",
    "print(\"Number of samples: {}\".format(len(train_imgs)))\n",
    "\n",
    "# Read the validation set (only when NOT using cross-validation)\n",
    "if not USE_KFOLD_CV:\n",
    "    val_imgs = read_preprocess_image(hdf5_paths[2], settings.HDF5_KEY)\n",
    "    val_grndtr = read_preprocess_groundtruth(hdf5_paths[3], settings.HDF5_KEY)\n",
    "    val_grndtr_ext_conv = convert_img_to_pred(val_grndtr, settings.NUM_CLASSES, settings.VERBOSE)  # softmax: 4D\n",
    "else:\n",
    "    print(\"Using cross validation, not loading a validation set\")"
   ]
  },
  {
   "cell_type": "markdown",
   "metadata": {},
   "source": [
    "## Train the model"
   ]
  },
  {
   "cell_type": "markdown",
   "metadata": {},
   "source": [
    "### Train WITH a validation set - GENERATOR"
   ]
  },
  {
   "cell_type": "raw",
   "metadata": {},
   "source": [
    "# Prepare callbacks\n",
    "callbacks = [ModelCheckpoint(model_path, monitor=\"val_loss\", mode=\"min\", save_best_only=True, verbose=1),\n",
    "             EarlyStopping(monitor='val_loss',\n",
    "                           min_delta=0,\n",
    "                           patience=settings.TRN_EARLY_PATIENCE,\n",
    "                           verbose=0,\n",
    "                           mode=\"auto\"),\n",
    "             CSVLogger(csv_path, append=False),\n",
    "             ]\n",
    "\n",
    "print(\"Training with a training set AND a validation set, using generators\")\n",
    "print_training_info(unet, model_path, train_imgs.shape, settings, opt, loss)\n",
    "print(\"Training start:\\n\")\n",
    "\n",
    "# Fit the model using generators and a validation set\n",
    "start_time = time.time()\n",
    "hist = model.fit_generator(gen_train,\n",
    "                 epochs=settings.TRN_NUM_EPOCH,\n",
    "                 steps_per_epoch=rdr_train.num_images()/settings.TRN_BATCH_SIZE,\n",
    "                 verbose=2,\n",
    "                 validation_data=gen_val,\n",
    "                 validation_steps=rdr_val.num_images()/settings.TRN_BATCH_SIZE,\n",
    "                 shuffle=True,\n",
    "                 callbacks=callbacks)\n",
    "\n",
    "print(\"\\n\\nElapsed training time: {} min\".format(int((time.time() - start_time))/60))"
   ]
  },
  {
   "cell_type": "markdown",
   "metadata": {},
   "source": [
    "### Train WITHOUT a validation set - GENERATOR"
   ]
  },
  {
   "cell_type": "raw",
   "metadata": {},
   "source": [
    "# Prepare callbacks\n",
    "callbacks = [\n",
    "    ModelCheckpoint(model_path, monitor=\"loss\", mode=\"min\", save_best_only=True, verbose=1),\n",
    "    EarlyStopping(monitor='loss', min_delta=0, patience=settings.TRN_EARLY_PATIENCE, verbose=0, mode=\"auto\"),\n",
    "    CSVLogger(csv_path, append=False),\n",
    "    ]\n",
    "\n",
    "print(\"Training with just a training set, no validation set used, using generators\")\n",
    "print_training_info(unet, model_path, train_imgs.shape, settings, opt, loss)\n",
    "print(\"Training start:\\n\")\n",
    "\n",
    "# Fit the model using a training set only\n",
    "start_time = time.time()\n",
    "hist = model.fit_generator(gen_train,\n",
    "                 epochs=settings.TRN_NUM_EPOCH,\n",
    "#                  epochs=3,\n",
    "                 steps_per_epoch=rdr_train.num_images()/settings.TRN_BATCH_SIZE,\n",
    "                 verbose=2,\n",
    "                 shuffle=True,\n",
    "                 callbacks=callbacks)\n",
    "\n",
    "print(\"\\n\\nElapsed training time: {} min\".format(int((time.time() - start_time))/60))"
   ]
  },
  {
   "cell_type": "markdown",
   "metadata": {},
   "source": [
    "### Train WITH a validation set - ALL IN MEMORY"
   ]
  },
  {
   "cell_type": "code",
   "execution_count": null,
   "metadata": {},
   "outputs": [],
   "source": [
    "if not USE_KFOLD_CV:\n",
    "    print(\"Training with a training/validation split, all in memory\")\n",
    "    print_training_info(unet, model_path, train_imgs.shape, settings, opt, loss)\n",
    "    print(\"Training start:\\n\")\n",
    "\n",
    "    # Prepare callbacks\n",
    "    callbacks = [\n",
    "        ModelCheckpoint(model_path, monitor=\"val_loss\", mode=\"min\", save_best_only=True, verbose=1),\n",
    "        EarlyStopping(monitor='val_loss', min_delta=0, patience=settings.TRN_EARLY_PATIENCE, verbose=0, mode=\"auto\"),\n",
    "        CSVLogger(csv_path, append=False),\n",
    "        ]\n",
    "\n",
    "    # Fit the model using a training set only\n",
    "    start_time = time.time()\n",
    "    hist = model.fit(train_imgs, train_grndtr_ext_conv,\n",
    "                     epochs=settings.TRN_NUM_EPOCH,\n",
    "#                      epochs=2,\n",
    "                     batch_size=settings.TRN_BATCH_SIZE,\n",
    "                     verbose=1,\n",
    "                     shuffle=True,\n",
    "                     validation_data=(val_imgs, val_grndtr_ext_conv),\n",
    "                     callbacks=callbacks)\n",
    "\n",
    "    print(\"\\n\\nElapsed training time: {} min\".format(int((time.time() - start_time))/60))\n",
    "else:\n",
    "    print(\"Cross-validation selected, not performing one-off training with a validation set\")"
   ]
  },
  {
   "cell_type": "markdown",
   "metadata": {},
   "source": [
    "### Train WITHOUT a validation set - ALL IN MEMORY"
   ]
  },
  {
   "cell_type": "raw",
   "metadata": {},
   "source": [
    "if not USE_KFOLD_CV:\n",
    "    print(\"Training with just a training set, no validation set used, all in memory\")\n",
    "    print_training_info(unet, model_path, train_imgs.shape, settings, opt, loss)\n",
    "    print(\"Training start:\\n\")\n",
    "\n",
    "    # Prepare callbacks\n",
    "    callbacks = [\n",
    "        ModelCheckpoint(model_path, monitor=\"loss\", mode=\"min\", save_best_only=True, verbose=1),\n",
    "        EarlyStopping(monitor='loss', min_delta=0, patience=settings.TRN_EARLY_PATIENCE, verbose=0, mode=\"auto\"),\n",
    "        CSVLogger(csv_path, append=False),\n",
    "        ]\n",
    "\n",
    "    # Fit the model using a training set only\n",
    "    start_time = time.time()\n",
    "    hist = model.fit(train_imgs, train_grndtr_ext_conv,\n",
    "                     epochs=settings.TRN_NUM_EPOCH,\n",
    "                     batch_size=settings.TRN_BATCH_SIZE,\n",
    "                     verbose=1,\n",
    "                     shuffle=True,\n",
    "                     callbacks=callbacks)\n",
    "\n",
    "    print(\"\\n\\nElapsed training time: {} min\".format(int((time.time() - start_time))/60))\n",
    "else:\n",
    "    print(\"Cross-validation selected, not performing one-off training with just a training set\")"
   ]
  },
  {
   "cell_type": "markdown",
   "metadata": {},
   "source": [
    "## Use k-Fold Cross Validation"
   ]
  },
  {
   "cell_type": "markdown",
   "metadata": {},
   "source": [
    "https://machinelearningmastery.com/evaluate-performance-deep-learning-models-keras/\n",
    "\n",
    "https://github.com/keras-team/keras/issues/4530\n",
    "\n",
    "https://stackoverflow.com/questions/40854232/keras-scikit-learn-using-fit-generator-with-cross-validation/40866543#40866543\n",
    "\n",
    "https://stackoverflow.com/questions/41214527/k-fold-cross-validation-using-keras\n",
    "\n",
    "https://www.kaggle.com/stefanie04736/simple-keras-model-with-k-fold-cross-validation\n",
    "\n",
    "NICE: https://www.kaggle.com/zfturbo/fishy-keras-lb-1-25267/code"
   ]
  },
  {
   "cell_type": "code",
   "execution_count": null,
   "metadata": {},
   "outputs": [],
   "source": [
    "if USE_KFOLD_CV:\n",
    "    from sklearn.model_selection import KFold\n",
    "\n",
    "    print(\"Training using cross validation\")\n",
    "    print_training_info(unet, model_path, train_imgs.shape, settings)\n",
    "    print(\"Training start:\\n\")\n",
    "\n",
    "    # Set the optimiser, loss function and metrics\n",
    "    opt = Adam()\n",
    "    metrics = [dice_coef]\n",
    "    loss = weighted_pixelwise_crossentropy_loss(class_weights)\n",
    "\n",
    "    # Create the folds\n",
    "    kfold = KFold(n_splits=settings.TRN_NUM_KFOLD_SPLITS, shuffle=True, random_state=settings.RANDOM_STATE)\n",
    "    cvscores = []\n",
    "    cvlosses = []\n",
    "    fold_id = 1\n",
    "    for train_idx, test_idx in kfold.split(train_imgs, train_grndtr_ext_conv):\n",
    "        print(\"\\n-----> Fold {} of {} <-----\".format(fold_id, settings.TRN_NUM_KFOLD_SPLITS))\n",
    "        print(\"Training: {} slices, test: {} slices\".format(len(train_idx), len(test_idx)))\n",
    "        \n",
    "        # Create and compile the model before each fold (to reset the weights)\n",
    "        model = unet.build_model_softmax()\n",
    "        model.compile(optimizer=opt, loss=loss, metrics=metrics)\n",
    "\n",
    "        # Include the number of the fold in the file name\n",
    "        kfold_path = os.path.join(settings.MODEL_PATH, \"DECiSION_\" + unet.title + \"_ep{}_kfold{}.model\".format(settings.TRN_NUM_EPOCH, fold_id))\n",
    "\n",
    "        callbacks = [\n",
    "            ModelCheckpoint(kfold_path, monitor=\"loss\", mode=\"min\", save_best_only=True, verbose=1),\n",
    "            EarlyStopping(monitor='loss', min_delta=0, patience=settings.TRN_EARLY_PATIENCE, verbose=0, mode=\"auto\"),\n",
    "            CSVLogger(csv_path, append=False),\n",
    "        ]\n",
    "\n",
    "        hist = model.fit(train_imgs[train_idx], train_grndtr_ext_conv[train_idx],\n",
    "                         epochs=settings.TRN_NUM_EPOCH,\n",
    "                         batch_size=settings.TRN_BATCH_SIZE,\n",
    "                         verbose=2,\n",
    "                         shuffle=True,\n",
    "                         callbacks=callbacks)\n",
    "\n",
    "        scores = model.evaluate(train_imgs[test_idx], train_grndtr_ext_conv[test_idx], verbose=2)\n",
    "        print(\"\\n-----> Fold {}: {}: {:.2f}%% - {}: {:.2f}\\n\".format(fold_id,\n",
    "                                                          model.metrics_names[1],\n",
    "                                                          scores[1]*100,\n",
    "                                                          model.metrics_names[0],\n",
    "                                                          scores[0]))\n",
    "        cvscores.append(scores[1] * 100)\n",
    "        cvlosses.append(scores[0])\n",
    "\n",
    "        fold_id += 1\n",
    "\n",
    "    print(\"Results\")\n",
    "    print(\"------------------\")\n",
    "    for i in range(NUM_SPLITS):\n",
    "        print(\"Fold {}: {}: {:.2f}% - {}: {:.2f}\\n\".format(i,\n",
    "                                                          model.metrics_names[1],\n",
    "                                                          cvscores[i],\n",
    "                                                          model.metrics_names[0],\n",
    "                                                          cvlosses[i]))\n",
    "    print(\"------------------\")\n",
    "\n",
    "    print(\"\\nEstimated test performance: mean and std dev\")\n",
    "    print(\"------------------\")\n",
    "    print(\"\\n{}: {:.2f} (+/- {:.2f})\".format(model.metrics_names[0], np.mean(cvlosses), np.std(cvlosses)))\n",
    "    print(\"{}: {:.2f}% (+/- {:.2f}%)\".format(model.metrics_names[1], np.mean(cvscores), np.std(cvscores)))\n",
    "\n",
    "    print(\"\\nFold Id with the highest DICE: {}\".format(np.argmax(cvscores)+1))\n",
    "    print(\" Fold Id with the lowest loss: {}\".format(np.argmin(cvscores)+1))\n",
    "    \n",
    "    print(\"\\nFitting model using all training data\")\n",
    "    print(\"------------------\")\n",
    "    # Prepare callbacks\n",
    "    callbacks = [\n",
    "        ModelCheckpoint(model_path, monitor=\"loss\", mode=\"min\", save_best_only=True, verbose=1),\n",
    "        EarlyStopping(monitor='loss', min_delta=0, patience=settings.TRN_EARLY_PATIENCE, verbose=0, mode=\"auto\"),\n",
    "        CSVLogger(csv_path, append=False),\n",
    "        ]\n",
    "\n",
    "    model = unet.build_model_softmax()\n",
    "    model.compile(optimizer=opt, loss=loss, metrics=metrics)\n",
    "\n",
    "    # Fit the model using a training set only\n",
    "    start_time = time.time()\n",
    "    hist = model.fit(train_imgs, train_grndtr_ext_conv,\n",
    "#                      epochs=settings.TRN_NUM_EPOCH,\n",
    "                     epochs=2,\n",
    "                     batch_size=settings.TRN_BATCH_SIZE,\n",
    "                     verbose=1,\n",
    "                     shuffle=True,\n",
    "                     callbacks=callbacks)\n",
    "\n",
    "    print(\"\\n\\nElapsed training time: {} min\".format(int((time.time() - start_time))/60))"
   ]
  },
  {
   "cell_type": "markdown",
   "metadata": {},
   "source": [
    "## Plot the results"
   ]
  },
  {
   "cell_type": "code",
   "execution_count": null,
   "metadata": {},
   "outputs": [],
   "source": [
    "if not USE_KFOLD_CV:\n",
    "    plot_training_history(hist,\n",
    "                          settings.TRN_NUM_EPOCH,\n",
    "                          show=False,\n",
    "                          save_path=settings.OUTPUT_PATH + unet.title,\n",
    "                          time_stamp=True,\n",
    "                          metric=\"dice_coef\")\n",
    "else:\n",
    "    print(\"Using cross-validation, no training history saved\")"
   ]
  },
  {
   "cell_type": "markdown",
   "metadata": {},
   "source": [
    "## Perform pipeline test"
   ]
  },
  {
   "cell_type": "code",
   "execution_count": null,
   "metadata": {},
   "outputs": [],
   "source": [
    "# Read images and ground truths\n",
    "train_imgs = read_preprocess_image(hdf5_paths[0], settings.HDF5_KEY)\n",
    "train_grndtr = read_preprocess_groundtruth(hdf5_paths[1], settings.HDF5_KEY)\n",
    "\n",
    "# For pipeline testing only\n",
    "predictions = model.predict(train_imgs, batch_size=settings.TRN_BATCH_SIZE, verbose=2)\n",
    "\n",
    "\n",
    "# predictions = predictions\n",
    "predictions_imgs = convert_pred_to_img(predictions,\n",
    "                                       threshold=settings.TRN_PRED_THRESHOLD,\n",
    "                                       verbose=settings.TRN_PRED_THRESHOLD)\n",
    "\n",
    "show_image(np.squeeze(train_imgs[0]), 'PRED TRAIN org image')\n",
    "show_image(np.squeeze(train_grndtr[0]), 'PRED TRAIN org ground truth')\n",
    "show_image(np.squeeze(predictions_imgs[0]), 'PRED TRAIN predicted mask')\n",
    "\n",
    "print(\"  original {} dtype {}\".format(np.max(train_imgs[0]), train_imgs[0].dtype))\n",
    "print(\"  gr truth {} dtype {}\".format(np.max(train_grndtr[0]), train_grndtr[0].dtype))\n",
    "print(\"prediction {} dtype {}\".format(np.max(predictions_imgs[0]), predictions[0].dtype))"
   ]
  },
  {
   "cell_type": "code",
   "execution_count": null,
   "metadata": {},
   "outputs": [],
   "source": [
    "plot_precision_recall_curve(train_grndtr, predictions, settings.NUM_CLASSES, show=True, save_path=\"../output/lala.png\")"
   ]
  },
  {
   "cell_type": "code",
   "execution_count": null,
   "metadata": {},
   "outputs": [],
   "source": []
  }
 ],
 "metadata": {
  "kernelspec": {
   "display_name": "Python 3",
   "language": "python",
   "name": "python3"
  },
  "language_info": {
   "codemirror_mode": {
    "name": "ipython",
    "version": 3
   },
   "file_extension": ".py",
   "mimetype": "text/x-python",
   "name": "python",
   "nbconvert_exporter": "python",
   "pygments_lexer": "ipython3",
   "version": "3.6.4"
  }
 },
 "nbformat": 4,
 "nbformat_minor": 2
}
